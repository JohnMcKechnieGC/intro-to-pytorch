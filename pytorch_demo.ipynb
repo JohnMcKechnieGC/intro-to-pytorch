{
 "cells": [
  {
   "cell_type": "markdown",
   "id": "6c4fa41d",
   "metadata": {},
   "source": [
    "# Pytorch Demo\n",
    "This PyTorch demo is based around some of the ideas we encountered when looking at the browser-based TensorFlow playground: https://playground.tensorflow.org/\n",
    "\n",
    "See https://pytorch.org/ for the extensive PyTorch documentation including how to get started, tutorials, recipies and link to the PyTorch YouTube series."
   ]
  },
  {
   "cell_type": "markdown",
   "id": "bcf057df",
   "metadata": {},
   "source": [
    "First we will import PyTorch."
   ]
  },
  {
   "cell_type": "code",
   "execution_count": 1,
   "id": "196a6fc7393e5faa",
   "metadata": {
    "collapsed": false,
    "is_executing": true,
    "jupyter": {
     "outputs_hidden": false
    }
   },
   "outputs": [],
   "source": [
    "import torch\n",
    "import torch.nn as nn"
   ]
  },
  {
   "cell_type": "markdown",
   "id": "31c56c22",
   "metadata": {},
   "source": [
    "If we have a GPU available, we'll use it. Otherwise we'll use the CPU."
   ]
  },
  {
   "cell_type": "code",
   "execution_count": 2,
   "id": "c4340727",
   "metadata": {},
   "outputs": [
    {
     "data": {
      "text/plain": [
       "device(type='cuda')"
      ]
     },
     "execution_count": 2,
     "metadata": {},
     "output_type": "execute_result"
    }
   ],
   "source": [
    "device = torch.device('cuda' if torch.cuda.is_available() else 'cpu')\n",
    "#device = 'cpu'  # Or uncomment to explicitly set to CPU if you wish\n",
    "\n",
    "device"
   ]
  },
  {
   "cell_type": "markdown",
   "id": "f6716da5",
   "metadata": {},
   "source": [
    "Set the PyTorch random seed for reproducibility."
   ]
  },
  {
   "cell_type": "code",
   "execution_count": 3,
   "id": "a6710e83f37507a8",
   "metadata": {
    "collapsed": false,
    "jupyter": {
     "outputs_hidden": false
    }
   },
   "outputs": [
    {
     "data": {
      "text/plain": [
       "<torch._C.Generator at 0x29905d1c390>"
      ]
     },
     "execution_count": 3,
     "metadata": {},
     "output_type": "execute_result"
    }
   ],
   "source": [
    "torch.manual_seed(42)"
   ]
  },
  {
   "cell_type": "markdown",
   "id": "209c0ac0",
   "metadata": {},
   "source": [
    "## Functions to generate random 2D data points.\n",
    "These functions generate the datasets that we can use to train our neural network. They are similar to the datasets available on TensorFlow Playground."
   ]
  },
  {
   "cell_type": "markdown",
   "id": "17330fa2",
   "metadata": {},
   "source": [
    "### Exclusive or (XOR)\n",
    "This one is similar to the 'Exclusive or' dataset from TensorFlow Playground."
   ]
  },
  {
   "cell_type": "code",
   "execution_count": 4,
   "id": "3b2b92b0f7ca0f2b",
   "metadata": {
    "collapsed": false,
    "jupyter": {
     "outputs_hidden": false
    }
   },
   "outputs": [],
   "source": [
    "def generate_xor_data(num_points, range_min=-6, range_max=6):\n",
    "    \"\"\"\n",
    "    Generates a dataset that represents the XOR logic gate. Points from different quadrants \n",
    "    will belong to different classes, mimicking the non-linear separability of XOR.\n",
    "\n",
    "    Args:\n",
    "        num_points (int): Number of data points to generate.\n",
    "        range_min (int): Minimum value of the range for generating data points.\n",
    "        range_max (int): Maximum value of the range for generating data points.\n",
    "\n",
    "    Returns:\n",
    "        Tuple of (points, labels): where 'points' are the coordinates of the data points,\n",
    "        and 'labels' are the corresponding binary class labels.\n",
    "    \"\"\"\n",
    "\n",
    "    # Generate random points within the specified range\n",
    "    points = (range_max - range_min) * torch.rand(num_points, 2) + range_min\n",
    "\n",
    "    # Assign labels based on the XOR logic: opposite quadrants have different labels\n",
    "    labels = torch.zeros(num_points, dtype=torch.float32)\n",
    "    for i in range(num_points):\n",
    "        if points[i,0] * points[i,1] < 0:  # i.e. if one and only one of the dimensions is negative\n",
    "            labels[i] = 1.0\n",
    "    return points, labels"
   ]
  },
  {
   "cell_type": "markdown",
   "id": "f567da0a",
   "metadata": {},
   "source": [
    "### Gaussian\n",
    "This function generates data where it's possible to draw a straight line between both classes. It is similar to the 'Gaussian' dataset on TensorFlow Playground."
   ]
  },
  {
   "cell_type": "code",
   "execution_count": 5,
   "id": "f03a78c9",
   "metadata": {},
   "outputs": [],
   "source": [
    "def generate_linerarly_separable_data(num_points, range_min=-6, range_max=6):\n",
    "    \"\"\"\n",
    "    Generates a set of linearly separable 2D data points. The separability is based on the sum of \n",
    "    the point coordinates. Points below the line x + y = 0 are labeled as one class, and above as another.\n",
    "\n",
    "    Args:\n",
    "        num_points (int): The number of data points to generate.\n",
    "        range_min (int): The minimum value of the range for each coordinate.\n",
    "        range_max (int): The maximum value of the range for each coordinate.\n",
    "\n",
    "    Returns:\n",
    "        points (Tensor): A tensor of shape (num_points, 2), where each row represents a point (x, y).\n",
    "        labels (Tensor): A tensor of shape (num_points,), containing the label (0 or 1) for each point.\n",
    "    \"\"\"\n",
    "    # Generate random points uniformly distributed within the specified range\n",
    "    points = (range_max - range_min) * torch.rand(num_points, 2) + range_min\n",
    "\n",
    "    # Label each point based on its position relative to the line x + y = 0\n",
    "    labels = torch.zeros(num_points, dtype=torch.float32)\n",
    "    for i in range(num_points):\n",
    "        if points[i, 0] + points[i, 1] < 0:  # i.e. if the point is below the diagonal line x + y = 0\n",
    "            labels[i] = 1.0\n",
    "    return points, labels"
   ]
  },
  {
   "cell_type": "markdown",
   "id": "555415f3",
   "metadata": {},
   "source": [
    "### Circle\n",
    "This function generates a ring of points within another ring of points. It is similar to the 'Circle' dataset on TensorFlow Playground."
   ]
  },
  {
   "cell_type": "code",
   "execution_count": 6,
   "id": "24989d18",
   "metadata": {},
   "outputs": [],
   "source": [
    "def generate_ring_data(num_points, inner_radius=1.5, outer_radius=5):\n",
    "    \"\"\"\n",
    "    Generates a dataset with points distributed in two concentric rings. Points in the inner ring\n",
    "    belong to one class, and points in the outer ring belong to another class.\n",
    "\n",
    "    Args:\n",
    "        num_points (int): Total number of data points to generate.\n",
    "        inner_radius (float): Radius of the inner circle defining the first class.\n",
    "        outer_radius (float): Radius of the outer circle defining the second class.\n",
    "\n",
    "    Returns:\n",
    "        points (Tensor): A tensor of shape (num_points, 2), each row represents a point (x, y).\n",
    "        labels (Tensor): A tensor of shape (num_points,), containing the label (0 or 1) for each point.\n",
    "    \"\"\"\n",
    "    # Initialize tensors for points and labels\n",
    "    points = torch.zeros(num_points, 2)\n",
    "    labels = torch.zeros(num_points, dtype=torch.float32)\n",
    "\n",
    "    # Half the points go into the inner circle, half into the outer\n",
    "    for i in range(num_points):\n",
    "        angle = torch.rand(1) * 2 * torch.pi  # Random angle\n",
    "        if i < num_points // 2:\n",
    "            # Random radius in the inner ring\n",
    "            radius = torch.rand(1) * (inner_radius - 0.5) + 0.5\n",
    "            labels[i] = 1.0  # Class 1 for inner ring\n",
    "        else:\n",
    "            # Random radius in the outer ring (with a padding of 1 between inner and outer rings)\n",
    "            radius = torch.rand(1) * (outer_radius -\n",
    "                                      inner_radius - 1) + inner_radius + 1\n",
    "            labels[i] = 0.0  # Class 0 for outer ring\n",
    "\n",
    "        # Convert polar coordinates to Cartesian coordinates\n",
    "        points[i, 0] = radius * torch.cos(angle)  # x coordinate\n",
    "        points[i, 1] = radius * torch.sin(angle)  # y coordinate\n",
    "\n",
    "    return points, labels"
   ]
  },
  {
   "cell_type": "markdown",
   "id": "624e4b9e",
   "metadata": {},
   "source": [
    "### Spiral\n",
    "This function generates data similar to the 'Spiral' dataset on TensorFlow Playground. This function is a Python/PyTorch port of the actual TensorFlow Playground code, specifically the classifySpiralData function written in TypeScript and available on Github: https://github.com/tensorflow/playground/blob/master/src/dataset.ts"
   ]
  },
  {
   "cell_type": "code",
   "execution_count": 7,
   "id": "30108c3e",
   "metadata": {},
   "outputs": [],
   "source": [
    "def generate_spiral_data(num_samples, noise=0.1):\n",
    "    \"\"\"\n",
    "    Generates a 2D spiral dataset suitable for classification tasks.\n",
    "    \n",
    "    Args:\n",
    "        num_samples (int): Total number of samples to generate. Should be an even number.\n",
    "        noise (float): Amount of noise to add to the data points. Higher values add more noise.\n",
    "\n",
    "    Returns:\n",
    "        torch.Tensor: A tensor of shape (num_samples, 3), where each row represents a point\n",
    "                      (x, y, label). 'label' is 1 for positive class and 0 for negative class.\n",
    "    \n",
    "    The dataset consists of two interleaved spirals with labels 1 and 0 respectively. Noise is added\n",
    "    to the points to make the classification task non-trivial.\n",
    "    \"\"\"\n",
    "    assert num_samples % 2 == 0  # Make sure num_samples is even\n",
    "\n",
    "    points = torch.zeros((num_samples, 2))\n",
    "    labels = torch.zeros(num_samples)\n",
    "    n = num_samples // 2\n",
    "\n",
    "    def gen_spiral(delta_t, label, start_idx):\n",
    "        \"\"\"\n",
    "        Generates a single spiral.\n",
    "\n",
    "        Args:\n",
    "            delta_t (float): Phase shift for generating the second spiral. In a spiral, points are\n",
    "                             distributed around a central point with a certain angular displacement.\n",
    "                             By adding a phase shift (delta_t), we can generate a second spiral that\n",
    "                             is interleaved with the first one. In the function, delta_t is set to 0\n",
    "                             for the first spiral and to π (pi) for the second spiral, ensuring that\n",
    "                             the two spirals are offset by half a rotation, thus intertwining them.\n",
    "            label (int) : The label (0 or 1) for this spiral.\n",
    "            start_idx (int): An offset to ensure that the second spiral doesn't overwrite th points\n",
    "                             and labels of the first spiral. \n",
    "        \"\"\"\n",
    "        for i in range(n):\n",
    "            # Radius of the spiral at a particular point: r determines how far a point is from the centre\n",
    "            # of the spiral. It is calculated as i / n * 5, where i is the index of the point and n is\n",
    "            # half the total number of samples (since each spiral contains half of the points). This\n",
    "            # ensures that r increases linearly from 0 to 5 as i goes from 0 to n, causing points to\n",
    "            # spiral outward from the center.\n",
    "            r = torch.tensor(i / n * 5)\n",
    "\n",
    "            # Angle for the current point in the spiral: t determines the angular position of the point\n",
    "            # around the center of the spiral. It is calculated as 1.75 * i / n * 2 * π + delta_t. The\n",
    "            # term 1.75 * i / n * 2 * π creates a spiral that makes approximately 1.75 full turns as i\n",
    "            # goes from 0 to n. Adding delta_t shifts the phase of the spiral to create the second\n",
    "            # interleaved spiral.\n",
    "            t = torch.tensor(1.75 * i / n * 2 * torch.pi + delta_t)\n",
    "            \n",
    "            x = r * torch.sin(t) + (torch.rand(1) * 2 - 1) * noise\n",
    "            y = r * torch.cos(t) + (torch.rand(1) * 2 - 1) * noise\n",
    "            points[start_idx + i, 0] = x\n",
    "            points[start_idx + i, 1] = y\n",
    "            labels[start_idx + i] = label\n",
    "\n",
    "    gen_spiral(0, 1, 0)         # Positive examples\n",
    "    gen_spiral(torch.pi, 0, n)  # Negative examples (the original function used -1 as label rather than 0)\n",
    "    return points, labels"
   ]
  },
  {
   "cell_type": "markdown",
   "id": "45f7c7ee",
   "metadata": {},
   "source": [
    "## Generate the data\n",
    "We can easily vary the dataset by choosing one of the data generation functions."
   ]
  },
  {
   "cell_type": "code",
   "execution_count": 8,
   "id": "c1fca579d6abe888",
   "metadata": {
    "collapsed": false,
    "jupyter": {
     "outputs_hidden": false
    }
   },
   "outputs": [],
   "source": [
    "TRAINING_SET_SIZE = 300\n",
    "TEST_SET_SIZE = 70\n",
    "\n",
    "# generate_data = generate_xor_data\n",
    "# generate_data = generate_linerarly_separable_data\n",
    "# generate_data = generate_ring_data\n",
    "generate_data = generate_spiral_data\n",
    "\n",
    "train_data, train_labels = generate_data(TRAINING_SET_SIZE)\n",
    "test_data, test_labels = generate_data(TEST_SET_SIZE)"
   ]
  },
  {
   "cell_type": "code",
   "execution_count": 9,
   "id": "7779095e",
   "metadata": {},
   "outputs": [
    {
     "data": {
      "text/plain": [
       "tensor([[ 7.6454e-02,  8.3001e-02],\n",
       "        [-2.0986e-02,  1.2510e-01],\n",
       "        [-1.2171e-02,  8.6131e-02],\n",
       "        [-2.6871e-02,  1.5632e-01],\n",
       "        [ 1.2669e-01,  5.4280e-02],\n",
       "        [ 1.4665e-01,  1.7431e-01],\n",
       "        [ 1.5904e-01,  1.9451e-01],\n",
       "        [ 1.6276e-01,  1.8916e-01],\n",
       "        [ 2.2466e-01,  2.3689e-01],\n",
       "        [ 1.3719e-01,  2.6254e-01],\n",
       "        [ 1.7697e-01,  2.3599e-01],\n",
       "        [ 2.2403e-01,  3.2012e-01],\n",
       "        [ 2.2927e-01,  2.0887e-01],\n",
       "        [ 3.2498e-01,  1.9089e-01],\n",
       "        [ 4.0861e-01,  1.4298e-01],\n",
       "        [ 5.3581e-01,  1.4205e-01],\n",
       "        [ 5.6886e-01,  2.2332e-01],\n",
       "        [ 5.0460e-01,  2.4254e-01],\n",
       "        [ 5.9674e-01,  2.3001e-01],\n",
       "        [ 6.3426e-01,  8.0616e-02],\n",
       "        [ 6.8988e-01,  4.2568e-02],\n",
       "        [ 7.4174e-01,  1.1127e-01],\n",
       "        [ 7.9050e-01, -7.4426e-02],\n",
       "        [ 8.1931e-01, -7.0226e-02],\n",
       "        [ 8.3661e-01, -2.1086e-01],\n",
       "        [ 7.0595e-01, -2.5432e-01],\n",
       "        [ 7.4176e-01, -2.0296e-01],\n",
       "        [ 8.5478e-01, -3.1601e-01],\n",
       "        [ 8.5875e-01, -4.3415e-01],\n",
       "        [ 8.9982e-01, -5.8044e-01],\n",
       "        [ 8.1531e-01, -6.5604e-01],\n",
       "        [ 8.2009e-01, -7.0141e-01],\n",
       "        [ 7.9275e-01, -7.6714e-01],\n",
       "        [ 8.1038e-01, -8.8439e-01],\n",
       "        [ 6.2557e-01, -9.6238e-01],\n",
       "        [ 7.2536e-01, -9.4512e-01],\n",
       "        [ 6.7433e-01, -1.1341e+00],\n",
       "        [ 4.1423e-01, -1.1996e+00],\n",
       "        [ 3.7426e-01, -1.1467e+00],\n",
       "        [ 3.9850e-01, -1.1653e+00],\n",
       "        [ 2.2557e-01, -1.3724e+00],\n",
       "        [ 2.3854e-01, -1.3944e+00],\n",
       "        [ 1.4860e-01, -1.4210e+00],\n",
       "        [ 4.2195e-02, -1.5110e+00],\n",
       "        [-1.7319e-01, -1.4310e+00],\n",
       "        [-2.1351e-01, -1.5070e+00],\n",
       "        [-2.9053e-01, -1.4248e+00],\n",
       "        [-5.4101e-01, -1.5484e+00],\n",
       "        [-4.9743e-01, -1.5214e+00],\n",
       "        [-7.4633e-01, -1.5673e+00],\n",
       "        [-8.9060e-01, -1.4184e+00],\n",
       "        [-9.6874e-01, -1.4786e+00],\n",
       "        [-1.0743e+00, -1.4267e+00],\n",
       "        [-1.2807e+00, -1.3555e+00],\n",
       "        [-1.3997e+00, -1.2959e+00],\n",
       "        [-1.3248e+00, -1.1349e+00],\n",
       "        [-1.5020e+00, -1.1586e+00],\n",
       "        [-1.7011e+00, -1.0005e+00],\n",
       "        [-1.7161e+00, -9.4762e-01],\n",
       "        [-1.8640e+00, -8.0295e-01],\n",
       "        [-1.9018e+00, -6.5524e-01],\n",
       "        [-1.9816e+00, -5.5278e-01],\n",
       "        [-2.1064e+00, -4.0300e-01],\n",
       "        [-2.1249e+00, -2.7656e-01],\n",
       "        [-2.0490e+00, -6.4524e-02],\n",
       "        [-2.0777e+00,  1.4455e-01],\n",
       "        [-2.2673e+00,  3.4494e-01],\n",
       "        [-2.2168e+00,  4.0310e-01],\n",
       "        [-2.2662e+00,  5.1014e-01],\n",
       "        [-2.1354e+00,  7.5725e-01],\n",
       "        [-2.0927e+00,  8.6699e-01],\n",
       "        [-2.0115e+00,  1.0450e+00],\n",
       "        [-2.0437e+00,  1.3069e+00],\n",
       "        [-1.9019e+00,  1.5315e+00],\n",
       "        [-1.7762e+00,  1.5325e+00],\n",
       "        [-1.7426e+00,  1.7248e+00],\n",
       "        [-1.6663e+00,  1.8429e+00],\n",
       "        [-1.4392e+00,  1.9872e+00],\n",
       "        [-1.3397e+00,  2.2304e+00],\n",
       "        [-1.2119e+00,  2.2667e+00],\n",
       "        [-9.9374e-01,  2.4581e+00],\n",
       "        [-9.0173e-01,  2.4523e+00],\n",
       "        [-6.9307e-01,  2.6176e+00],\n",
       "        [-5.9267e-01,  2.7980e+00],\n",
       "        [-3.2864e-01,  2.7226e+00],\n",
       "        [-1.9890e-01,  2.8247e+00],\n",
       "        [ 1.1587e-01,  2.8405e+00],\n",
       "        [ 2.1586e-01,  2.8529e+00],\n",
       "        [ 4.1448e-01,  2.9279e+00],\n",
       "        [ 7.8505e-01,  2.7869e+00],\n",
       "        [ 9.5028e-01,  2.9048e+00],\n",
       "        [ 1.1643e+00,  2.7729e+00],\n",
       "        [ 1.4157e+00,  2.7994e+00],\n",
       "        [ 1.6154e+00,  2.6507e+00],\n",
       "        [ 1.7618e+00,  2.5836e+00],\n",
       "        [ 1.9752e+00,  2.4312e+00],\n",
       "        [ 2.2545e+00,  2.4186e+00],\n",
       "        [ 2.3701e+00,  2.1662e+00],\n",
       "        [ 2.5615e+00,  2.0231e+00],\n",
       "        [ 2.7534e+00,  1.8829e+00],\n",
       "        [ 2.7959e+00,  1.6298e+00],\n",
       "        [ 3.1153e+00,  1.5042e+00],\n",
       "        [ 3.1563e+00,  1.1913e+00],\n",
       "        [ 3.2150e+00,  9.3713e-01],\n",
       "        [ 3.3425e+00,  8.2539e-01],\n",
       "        [ 3.5207e+00,  5.9369e-01],\n",
       "        [ 3.4325e+00,  2.3552e-01],\n",
       "        [ 3.5507e+00,  1.3408e-01],\n",
       "        [ 3.6074e+00, -2.5194e-01],\n",
       "        [ 3.6411e+00, -5.3119e-01],\n",
       "        [ 3.5218e+00, -6.8935e-01],\n",
       "        [ 3.5076e+00, -1.0523e+00],\n",
       "        [ 3.3997e+00, -1.2344e+00],\n",
       "        [ 3.5006e+00, -1.5315e+00],\n",
       "        [ 3.2602e+00, -1.9294e+00],\n",
       "        [ 3.1337e+00, -2.0132e+00],\n",
       "        [ 3.1279e+00, -2.2536e+00],\n",
       "        [ 2.9778e+00, -2.5538e+00],\n",
       "        [ 2.7510e+00, -2.8863e+00],\n",
       "        [ 2.4746e+00, -3.1233e+00],\n",
       "        [ 2.3921e+00, -3.2852e+00],\n",
       "        [ 2.1053e+00, -3.4855e+00],\n",
       "        [ 1.8658e+00, -3.6743e+00],\n",
       "        [ 1.5630e+00, -3.7296e+00],\n",
       "        [ 1.3296e+00, -3.8417e+00],\n",
       "        [ 1.0463e+00, -4.0980e+00],\n",
       "        [ 7.6936e-01, -4.1741e+00],\n",
       "        [ 4.5597e-01, -4.3005e+00],\n",
       "        [ 2.3462e-01, -4.3325e+00],\n",
       "        [-8.4805e-02, -4.2525e+00],\n",
       "        [-3.8152e-01, -4.3863e+00],\n",
       "        [-7.0135e-01, -4.3449e+00],\n",
       "        [-1.0571e+00, -4.1679e+00],\n",
       "        [-1.4282e+00, -4.2025e+00],\n",
       "        [-1.7539e+00, -4.2012e+00],\n",
       "        [-1.9950e+00, -4.1088e+00],\n",
       "        [-2.2863e+00, -3.8028e+00],\n",
       "        [-2.5508e+00, -3.7460e+00],\n",
       "        [-3.0143e+00, -3.5219e+00],\n",
       "        [-3.1517e+00, -3.4437e+00],\n",
       "        [-3.4907e+00, -3.1826e+00],\n",
       "        [-3.7225e+00, -2.9299e+00],\n",
       "        [-3.9834e+00, -2.6511e+00],\n",
       "        [-4.2478e+00, -2.2579e+00],\n",
       "        [-4.2593e+00, -2.0594e+00],\n",
       "        [-4.5237e+00, -1.7729e+00],\n",
       "        [-4.7493e+00, -1.5039e+00],\n",
       "        [-4.7448e+00, -1.1238e+00],\n",
       "        [-4.9447e+00, -7.2848e-01],\n",
       "        [-4.9866e+00, -3.9610e-01],\n",
       "        [ 3.2131e-03, -2.1211e-02],\n",
       "        [-3.6873e-02, -8.1124e-02],\n",
       "        [-9.1122e-02,  1.7899e-02],\n",
       "        [-6.1833e-02, -7.1094e-02],\n",
       "        [-7.3234e-02, -1.1952e-01],\n",
       "        [ 3.3502e-02, -1.0952e-01],\n",
       "        [-1.7182e-01, -1.4128e-01],\n",
       "        [-1.9620e-02, -1.7697e-01],\n",
       "        [-8.0529e-02, -1.2352e-01],\n",
       "        [-1.9920e-01, -2.1629e-01],\n",
       "        [-2.9255e-01, -2.6832e-01],\n",
       "        [-1.9059e-01, -2.0252e-01],\n",
       "        [-3.7148e-01, -3.3516e-01],\n",
       "        [-4.2156e-01, -3.4971e-01],\n",
       "        [-4.7633e-01, -2.6648e-01],\n",
       "        [-3.7802e-01, -2.1026e-01],\n",
       "        [-5.6772e-01, -2.8690e-01],\n",
       "        [-4.8732e-01, -2.5513e-01],\n",
       "        [-5.9346e-01, -1.0124e-01],\n",
       "        [-6.6961e-01, -1.2306e-01],\n",
       "        [-6.7172e-01, -9.3344e-02],\n",
       "        [-7.5036e-01, -1.1113e-01],\n",
       "        [-8.1353e-01, -2.2837e-02],\n",
       "        [-6.6500e-01,  3.9817e-02],\n",
       "        [-8.5298e-01,  1.7414e-01],\n",
       "        [-7.7738e-01,  2.7047e-01],\n",
       "        [-7.4245e-01,  3.4071e-01],\n",
       "        [-9.2513e-01,  3.6630e-01],\n",
       "        [-7.6655e-01,  4.2317e-01],\n",
       "        [-8.8049e-01,  6.0472e-01],\n",
       "        [-8.4642e-01,  5.3085e-01],\n",
       "        [-8.7941e-01,  6.7144e-01],\n",
       "        [-7.1779e-01,  7.6844e-01],\n",
       "        [-7.0767e-01,  7.4928e-01],\n",
       "        [-7.7860e-01,  9.0450e-01],\n",
       "        [-5.4423e-01,  1.0361e+00],\n",
       "        [-6.3633e-01,  1.0386e+00],\n",
       "        [-5.8713e-01,  1.0731e+00],\n",
       "        [-4.2341e-01,  1.2417e+00],\n",
       "        [-2.7985e-01,  1.1566e+00],\n",
       "        [-2.1035e-01,  1.2337e+00],\n",
       "        [-1.4803e-01,  1.4386e+00],\n",
       "        [-8.6502e-02,  1.4882e+00],\n",
       "        [-7.0196e-02,  1.3951e+00],\n",
       "        [ 1.8105e-01,  1.4397e+00],\n",
       "        [ 2.1418e-01,  1.4399e+00],\n",
       "        [ 4.1907e-01,  1.5419e+00],\n",
       "        [ 5.0054e-01,  1.4388e+00],\n",
       "        [ 5.0782e-01,  1.4985e+00],\n",
       "        [ 7.4051e-01,  1.4243e+00],\n",
       "        [ 8.0535e-01,  1.5109e+00],\n",
       "        [ 9.6351e-01,  1.4105e+00],\n",
       "        [ 1.0520e+00,  1.2678e+00],\n",
       "        [ 1.1018e+00,  1.2526e+00],\n",
       "        [ 1.2613e+00,  1.2633e+00],\n",
       "        [ 1.3957e+00,  1.1146e+00],\n",
       "        [ 1.6282e+00,  1.1002e+00],\n",
       "        [ 1.7067e+00,  9.1877e-01],\n",
       "        [ 1.6909e+00,  8.9638e-01],\n",
       "        [ 1.7543e+00,  6.7772e-01],\n",
       "        [ 1.8973e+00,  5.8146e-01],\n",
       "        [ 1.8997e+00,  5.4433e-01],\n",
       "        [ 2.1181e+00,  3.6088e-01],\n",
       "        [ 2.0733e+00,  1.0500e-01],\n",
       "        [ 2.0964e+00,  7.0135e-02],\n",
       "        [ 2.2109e+00, -1.2604e-01],\n",
       "        [ 2.1431e+00, -2.2001e-01],\n",
       "        [ 2.1096e+00, -3.7823e-01],\n",
       "        [ 2.1444e+00, -6.0802e-01],\n",
       "        [ 2.1443e+00, -7.6697e-01],\n",
       "        [ 2.1014e+00, -8.7634e-01],\n",
       "        [ 2.0832e+00, -1.0403e+00],\n",
       "        [ 2.1225e+00, -1.3347e+00],\n",
       "        [ 1.8806e+00, -1.3706e+00],\n",
       "        [ 1.9456e+00, -1.6881e+00],\n",
       "        [ 1.7600e+00, -1.8664e+00],\n",
       "        [ 1.5735e+00, -1.8984e+00],\n",
       "        [ 1.5569e+00, -2.0394e+00],\n",
       "        [ 1.3659e+00, -2.1030e+00],\n",
       "        [ 1.2587e+00, -2.3798e+00],\n",
       "        [ 1.0790e+00, -2.4121e+00],\n",
       "        [ 9.4961e-01, -2.6111e+00],\n",
       "        [ 7.7253e-01, -2.6837e+00],\n",
       "        [ 4.6376e-01, -2.7667e+00],\n",
       "        [ 4.4737e-01, -2.6924e+00],\n",
       "        [ 2.3783e-01, -2.7707e+00],\n",
       "        [ 1.5511e-02, -2.8794e+00],\n",
       "        [-3.2794e-01, -2.8372e+00],\n",
       "        [-5.4101e-01, -2.9597e+00],\n",
       "        [-7.3958e-01, -2.8600e+00],\n",
       "        [-8.7557e-01, -2.8920e+00],\n",
       "        [-1.2050e+00, -2.7950e+00],\n",
       "        [-1.4225e+00, -2.8120e+00],\n",
       "        [-1.5259e+00, -2.6851e+00],\n",
       "        [-1.6969e+00, -2.4757e+00],\n",
       "        [-1.9629e+00, -2.4265e+00],\n",
       "        [-2.1675e+00, -2.3311e+00],\n",
       "        [-2.3873e+00, -2.1872e+00],\n",
       "        [-2.5227e+00, -1.9361e+00],\n",
       "        [-2.7553e+00, -1.8971e+00],\n",
       "        [-2.9110e+00, -1.7150e+00],\n",
       "        [-3.0141e+00, -1.3906e+00],\n",
       "        [-3.0830e+00, -1.2057e+00],\n",
       "        [-3.3498e+00, -1.0804e+00],\n",
       "        [-3.3970e+00, -8.1005e-01],\n",
       "        [-3.4487e+00, -6.3932e-01],\n",
       "        [-3.4898e+00, -3.7195e-01],\n",
       "        [-3.6297e+00, -1.2049e-01],\n",
       "        [-3.5058e+00,  1.3135e-01],\n",
       "        [-3.5243e+00,  4.8974e-01],\n",
       "        [-3.5982e+00,  8.2489e-01],\n",
       "        [-3.5623e+00,  1.0950e+00],\n",
       "        [-3.4269e+00,  1.2145e+00],\n",
       "        [-3.3863e+00,  1.5869e+00],\n",
       "        [-3.3085e+00,  1.8453e+00],\n",
       "        [-3.1876e+00,  2.0397e+00],\n",
       "        [-3.0927e+00,  2.4328e+00],\n",
       "        [-2.8582e+00,  2.5754e+00],\n",
       "        [-2.8461e+00,  2.8146e+00],\n",
       "        [-2.6284e+00,  3.1110e+00],\n",
       "        [-2.4118e+00,  3.2288e+00],\n",
       "        [-2.1476e+00,  3.4457e+00],\n",
       "        [-1.7900e+00,  3.6134e+00],\n",
       "        [-1.5704e+00,  3.8404e+00],\n",
       "        [-1.2786e+00,  3.8689e+00],\n",
       "        [-1.1008e+00,  4.0729e+00],\n",
       "        [-8.1429e-01,  4.1724e+00],\n",
       "        [-5.0842e-01,  4.1375e+00],\n",
       "        [-1.3797e-01,  4.2783e+00],\n",
       "        [ 1.7965e-01,  4.3972e+00],\n",
       "        [ 5.2123e-01,  4.4044e+00],\n",
       "        [ 7.7862e-01,  4.2116e+00],\n",
       "        [ 1.0241e+00,  4.1996e+00],\n",
       "        [ 1.3259e+00,  4.1516e+00],\n",
       "        [ 1.6388e+00,  4.0254e+00],\n",
       "        [ 1.9832e+00,  3.9109e+00],\n",
       "        [ 2.2870e+00,  3.9158e+00],\n",
       "        [ 2.7288e+00,  3.6927e+00],\n",
       "        [ 2.9031e+00,  3.5978e+00],\n",
       "        [ 3.1576e+00,  3.2969e+00],\n",
       "        [ 3.5296e+00,  3.0355e+00],\n",
       "        [ 3.7260e+00,  2.9690e+00],\n",
       "        [ 3.9596e+00,  2.6466e+00],\n",
       "        [ 4.0945e+00,  2.3386e+00],\n",
       "        [ 4.3487e+00,  2.0683e+00],\n",
       "        [ 4.5512e+00,  1.8190e+00],\n",
       "        [ 4.5826e+00,  1.4096e+00],\n",
       "        [ 4.7320e+00,  9.8980e-01],\n",
       "        [ 4.8724e+00,  6.3265e-01],\n",
       "        [ 5.0231e+00,  3.7533e-01]])"
      ]
     },
     "execution_count": 9,
     "metadata": {},
     "output_type": "execute_result"
    }
   ],
   "source": [
    "train_data"
   ]
  },
  {
   "cell_type": "code",
   "execution_count": 10,
   "id": "fb057796",
   "metadata": {},
   "outputs": [
    {
     "data": {
      "text/plain": [
       "tensor([1., 1., 1., 1., 1., 1., 1., 1., 1., 1., 1., 1., 1., 1., 1., 1., 1., 1.,\n",
       "        1., 1., 1., 1., 1., 1., 1., 1., 1., 1., 1., 1., 1., 1., 1., 1., 1., 1.,\n",
       "        1., 1., 1., 1., 1., 1., 1., 1., 1., 1., 1., 1., 1., 1., 1., 1., 1., 1.,\n",
       "        1., 1., 1., 1., 1., 1., 1., 1., 1., 1., 1., 1., 1., 1., 1., 1., 1., 1.,\n",
       "        1., 1., 1., 1., 1., 1., 1., 1., 1., 1., 1., 1., 1., 1., 1., 1., 1., 1.,\n",
       "        1., 1., 1., 1., 1., 1., 1., 1., 1., 1., 1., 1., 1., 1., 1., 1., 1., 1.,\n",
       "        1., 1., 1., 1., 1., 1., 1., 1., 1., 1., 1., 1., 1., 1., 1., 1., 1., 1.,\n",
       "        1., 1., 1., 1., 1., 1., 1., 1., 1., 1., 1., 1., 1., 1., 1., 1., 1., 1.,\n",
       "        1., 1., 1., 1., 1., 1., 0., 0., 0., 0., 0., 0., 0., 0., 0., 0., 0., 0.,\n",
       "        0., 0., 0., 0., 0., 0., 0., 0., 0., 0., 0., 0., 0., 0., 0., 0., 0., 0.,\n",
       "        0., 0., 0., 0., 0., 0., 0., 0., 0., 0., 0., 0., 0., 0., 0., 0., 0., 0.,\n",
       "        0., 0., 0., 0., 0., 0., 0., 0., 0., 0., 0., 0., 0., 0., 0., 0., 0., 0.,\n",
       "        0., 0., 0., 0., 0., 0., 0., 0., 0., 0., 0., 0., 0., 0., 0., 0., 0., 0.,\n",
       "        0., 0., 0., 0., 0., 0., 0., 0., 0., 0., 0., 0., 0., 0., 0., 0., 0., 0.,\n",
       "        0., 0., 0., 0., 0., 0., 0., 0., 0., 0., 0., 0., 0., 0., 0., 0., 0., 0.,\n",
       "        0., 0., 0., 0., 0., 0., 0., 0., 0., 0., 0., 0., 0., 0., 0., 0., 0., 0.,\n",
       "        0., 0., 0., 0., 0., 0., 0., 0., 0., 0., 0., 0.])"
      ]
     },
     "execution_count": 10,
     "metadata": {},
     "output_type": "execute_result"
    }
   ],
   "source": [
    "train_labels"
   ]
  },
  {
   "cell_type": "markdown",
   "id": "18f178de",
   "metadata": {},
   "source": [
    "### Visualize the dataset\n",
    "Let's visualize our training data. We'll use Seaborn with a little help from Pandas."
   ]
  },
  {
   "cell_type": "code",
   "execution_count": 11,
   "id": "1d8da8fc",
   "metadata": {},
   "outputs": [],
   "source": [
    "import pandas as pd\n",
    "import seaborn as sns"
   ]
  },
  {
   "cell_type": "code",
   "execution_count": 12,
   "id": "411ebb3b",
   "metadata": {},
   "outputs": [
    {
     "data": {
      "text/plain": [
       "<Axes: xlabel='X1', ylabel='X2'>"
      ]
     },
     "execution_count": 12,
     "metadata": {},
     "output_type": "execute_result"
    },
    {
     "data": {
      "image/png": "[encoded data removed]",
      "text/plain": [
       "<Figure size 640x480 with 1 Axes>"
      ]
     },
     "metadata": {},
     "output_type": "display_data"
    }
   ],
   "source": [
    "training_df = pd.DataFrame()\n",
    "training_df['X1'] = train_data[:, 0]\n",
    "training_df['X2'] = train_data[:, 1]\n",
    "training_df['label'] = train_labels\n",
    "\n",
    "\n",
    "sns.scatterplot(data=training_df,\n",
    "                x=\"X1\",\n",
    "                y=\"X2\",\n",
    "                hue=\"label\")"
   ]
  },
  {
   "cell_type": "markdown",
   "id": "08a61f6a",
   "metadata": {},
   "source": [
    "## Neural network architecture"
   ]
  },
  {
   "cell_type": "code",
   "execution_count": 13,
   "id": "4071fa6f",
   "metadata": {},
   "outputs": [],
   "source": [
    "N_INPUT_NEURONS = 2              # Number of neurons in input layer\n",
    "N_NEURONS_IN_HIDDEN_LAYER_1 = 4  # Number of neurons in first hidden layer\n",
    "N_NEURONS_IN_HIDDEN_LAYER_2 = 2  # Number of neurons in second hidden layer\n",
    "N_OUTPUT_NEURONS = 1             # Number of neurons in output layer"
   ]
  },
  {
   "cell_type": "code",
   "execution_count": 14,
   "id": "71168997b38dcc71",
   "metadata": {
    "collapsed": false,
    "jupyter": {
     "outputs_hidden": false
    }
   },
   "outputs": [],
   "source": [
    "class NeuralNet(nn.Module):\n",
    "    def __init__(self):\n",
    "        super(NeuralNet, self).__init__()\n",
    "\n",
    "        # You can experiment with different activation functions. E.g.:\n",
    "        #self.activation = nn.ReLU()\n",
    "        self.activation_function = nn.Tanh()\n",
    "        \n",
    "        # Define a simple neural network architecture.\n",
    "        # We will use fully-connected 'nn.Linear' layers to transform input to output.\n",
    "        self.net = nn.Sequential(\n",
    "            # Connect all input neurons to all hidden layer 1 neurons\n",
    "            nn.Linear(N_INPUT_NEURONS, N_NEURONS_IN_HIDDEN_LAYER_1),\n",
    "            self.activation_function,\n",
    "\n",
    "            # Connect all hidden layer 1 neurons to all hidden layer 2 neurons\n",
    "            nn.Linear(N_NEURONS_IN_HIDDEN_LAYER_1, N_NEURONS_IN_HIDDEN_LAYER_2),\n",
    "            self.activation_function,\n",
    "\n",
    "            # Connect all hidden layer 2 neurons to the output neuron\n",
    "            nn.Linear(N_NEURONS_IN_HIDDEN_LAYER_2, N_OUTPUT_NEURONS),\n",
    "            # Use the sigmoid activation function for the output node since we have\n",
    "            # a binary classification task and sigmoid outputs over the range 0 to 1.\n",
    "            nn.Sigmoid()\n",
    "        )\n",
    "\n",
    "\n",
    "    def forward(self, inputs):\n",
    "        \"\"\"\n",
    "        Forward pass of the neural network.\n",
    "        Args:\n",
    "            x (tensor): Input data.\n",
    "        Returns:\n",
    "            Output tensor after passing through the network.\n",
    "        \"\"\"\n",
    "        return self.net(inputs)"
   ]
  },
  {
   "cell_type": "markdown",
   "id": "98d30141",
   "metadata": {},
   "source": [
    "Modifying the number of layers and the number of neurons in each layer in the neural network above is quite a manual process. Here we define NeuralNetDynamic that takes a list of integers in the constructor. The length of the list specifies how many hidden layers we'll have, and the value of each integer represents the number of neurons in that hidden layer."
   ]
  },
  {
   "cell_type": "code",
   "execution_count": 15,
   "id": "946921f0",
   "metadata": {},
   "outputs": [],
   "source": [
    "class NeuralNetDynamic(nn.Module):\n",
    "    def __init__(self, hidden_layers):\n",
    "        \"\"\"\n",
    "        Constructs a fully-connected neural network.\n",
    "        Args:\n",
    "            hidden_layers (list of int): Each integer specifies the number of neurons in a hidden layer.\n",
    "        \"\"\"\n",
    "        super(NeuralNetDynamic, self).__init__()\n",
    "\n",
    "        # Default hidden layer activation function.\n",
    "        # This could also be parameterized as an argument to the constructor.\n",
    "        self.activation_function = nn.Tanh()\n",
    "\n",
    "        layers = []\n",
    "        from_neurons = N_INPUT_NEURONS\n",
    "\n",
    "        # Create hidden layers dynamically by connecting the \"from_nuerons\" to the \"to_neurons\".\n",
    "        for to_neurons in hidden_layers:\n",
    "            layers.append(nn.Linear(from_neurons, to_neurons))\n",
    "            layers.append(self.activation_function)\n",
    "            from_neurons = to_neurons  # update the input for the next layer\n",
    "\n",
    "        # Add the output layer: from the last hidden layer to the output neuron(s)\n",
    "        layers.append(nn.Linear(from_neurons, N_OUTPUT_NEURONS))\n",
    "        # output activation for binary classification\n",
    "        layers.append(nn.Sigmoid())\n",
    "\n",
    "        self.net = nn.Sequential(*layers)\n",
    "\n",
    "    def forward(self, inputs):\n",
    "        \"\"\"\n",
    "        Forward pass of the neural network.\n",
    "        Args:\n",
    "            inputs (tensor): Input tensor.\n",
    "        Returns:\n",
    "            Output tensor after passing through the network.\n",
    "        \"\"\"\n",
    "        return self.net(inputs)"
   ]
  },
  {
   "cell_type": "markdown",
   "id": "8163bcf3",
   "metadata": {},
   "source": [
    "## Training procedure"
   ]
  },
  {
   "cell_type": "code",
   "execution_count": 16,
   "id": "2eb6580fe1c556f8",
   "metadata": {
    "collapsed": false,
    "jupyter": {
     "outputs_hidden": false
    }
   },
   "outputs": [],
   "source": [
    "def train(model, loss_function, optimizer, data, labels, epochs):\n",
    "    \"\"\"\n",
    "    Trains the neural network model.\n",
    "\n",
    "    Args:\n",
    "        model: The neural network model to train.\n",
    "        loss_function: Loss function to minimize.\n",
    "        optimizer: Optimization algorithm.\n",
    "        data: Input data for training.\n",
    "        labels: Correct labels for the training data.\n",
    "        epochs: Number of times to iterate over the training dataset.\n",
    "    \"\"\"\n",
    "    for epoch in range(epochs):\n",
    "        optimizer.zero_grad()  # Reset gradients to zero for each epoch\n",
    "        outputs = model(data)  # Compute model output (forward pass)\n",
    "        loss = loss_function(outputs, labels.view(-1, 1))  # Calculate loss (how wrong the network was)\n",
    "        loss.backward()  # Compute gradient of the loss w.r.t. network parameters (directions to nudge weights)\n",
    "        optimizer.step()  # Update parameters (nudge weights in the right direction)\n",
    "\n",
    "        if (epoch+1) % 10 == 0:\n",
    "            print(f'Epoch {epoch+1}/{epochs}, Loss: {loss.item()}')"
   ]
  },
  {
   "cell_type": "markdown",
   "id": "0b289f12",
   "metadata": {},
   "source": [
    "## Choose a loss function\n",
    "\n",
    "There are many loss functions available in PyTorch (https://pytorch.org/docs/stable/nn.html#loss-functions), the most popular include:\n",
    "- CrossEntropyLoss: Extremely popular for multi-class classification problems.\n",
    "- MSELoss: Widely used in regression tasks.\n",
    "- BCELoss / BCEWithLogitsLoss: Commonly used for binary classification tasks.\n",
    "- L1Loss: Frequently used in regression when robustness to outliers is needed.\n",
    "- SmoothL1Loss: Popular in computer vision tasks, particularly object detection.\n",
    "- TripletMarginLoss: Used in metric learning tasks like face recognition.\n",
    "\n",
    "In this case we have a binary classification task, so we'll choose BCELoss. "
   ]
  },
  {
   "cell_type": "code",
   "execution_count": 17,
   "id": "a1d35754",
   "metadata": {},
   "outputs": [],
   "source": [
    "loss_function = nn.BCELoss()"
   ]
  },
  {
   "cell_type": "markdown",
   "id": "9abe767c",
   "metadata": {},
   "source": [
    "## Initialize the model and optimizer"
   ]
  },
  {
   "cell_type": "markdown",
   "id": "82f31c74",
   "metadata": {},
   "source": [
    "### Create the neural network"
   ]
  },
  {
   "cell_type": "code",
   "execution_count": 18,
   "id": "018b1d00",
   "metadata": {},
   "outputs": [],
   "source": [
    "model = NeuralNet()\n",
    "\n",
    "# Alternatively, use the NeuralNetDynamic model with two hidden layers.\n",
    "# This makes it easy to experiment with the number of hidden layers and neurons in each layer.\n",
    "#hidden_layers = [N_NEURONS_IN_HIDDEN_LAYER_1, N_NEURONS_IN_HIDDEN_LAYER_2]\n",
    "#model = NeuralNetDynamic(hidden_layers)"
   ]
  },
  {
   "cell_type": "code",
   "execution_count": 19,
   "id": "13a6f490",
   "metadata": {},
   "outputs": [],
   "source": [
    "def print_weights_and_biases(model):\n",
    "    \"\"\"\n",
    "    Prints the weights and biases of a PyTorch model. This function assumes that the model's\n",
    "    parameters are organized into named layers and that each layer's parameters require gradients,\n",
    "    which is typical for trainable parameters in neural networks.\n",
    "\n",
    "    Args:\n",
    "        model (nn.Module): The PyTorch model from which weights and biases are to be printed.\n",
    "\n",
    "    This function iterates through all named parameters of the model, checking if they require\n",
    "    gradients (a common indicator that the parameter is trainable and used during model training).\n",
    "    It prints both the name of the parameter and its current values.\n",
    "    \"\"\"\n",
    "    # Iterate over all named parameters in the model\n",
    "    for name, param in model.named_parameters():\n",
    "        # Check if the parameter requires gradients\n",
    "        if param.requires_grad:\n",
    "            print(f\"{name}:\")\n",
    "            print(param.data)  # Print the parameter values"
   ]
  },
  {
   "cell_type": "code",
   "execution_count": 20,
   "id": "56b97253",
   "metadata": {},
   "outputs": [
    {
     "name": "stdout",
     "output_type": "stream",
     "text": [
      "net.0.weight:\n",
      "tensor([[ 0.4231,  0.1108],\n",
      "        [ 0.2330,  0.6711],\n",
      "        [-0.4562, -0.3210],\n",
      "        [ 0.4946, -0.4838]])\n",
      "net.0.bias:\n",
      "tensor([-0.3899,  0.5162,  0.2231,  0.2284])\n",
      "net.2.weight:\n",
      "tensor([[-0.2119, -0.0069,  0.4576, -0.3001],\n",
      "        [ 0.0039,  0.2378, -0.3452,  0.4856]])\n",
      "net.2.bias:\n",
      "tensor([-0.2498, -0.1201])\n",
      "net.4.weight:\n",
      "tensor([[-0.1913, -0.4608]])\n",
      "net.4.bias:\n",
      "tensor([-0.6939])\n"
     ]
    }
   ],
   "source": [
    "print_weights_and_biases(model)"
   ]
  },
  {
   "cell_type": "markdown",
   "id": "49211721",
   "metadata": {},
   "source": [
    "We can also examine the general structure of the model."
   ]
  },
  {
   "cell_type": "code",
   "execution_count": 21,
   "id": "17935fec",
   "metadata": {},
   "outputs": [
    {
     "data": {
      "text/plain": [
       "NeuralNet(\n",
       "  (activation_function): Tanh()\n",
       "  (net): Sequential(\n",
       "    (0): Linear(in_features=2, out_features=4, bias=True)\n",
       "    (1): Tanh()\n",
       "    (2): Linear(in_features=4, out_features=2, bias=True)\n",
       "    (3): Tanh()\n",
       "    (4): Linear(in_features=2, out_features=1, bias=True)\n",
       "    (5): Sigmoid()\n",
       "  )\n",
       ")"
      ]
     },
     "execution_count": 21,
     "metadata": {},
     "output_type": "execute_result"
    }
   ],
   "source": [
    "model"
   ]
  },
  {
   "cell_type": "markdown",
   "id": "875a5681",
   "metadata": {},
   "source": [
    "Move tensors to GPU if we have one available."
   ]
  },
  {
   "cell_type": "code",
   "execution_count": 22,
   "id": "04b84f69",
   "metadata": {},
   "outputs": [],
   "source": [
    "if device != 'cpu':\n",
    "    train_data = train_data.to(device)\n",
    "    train_labels = train_labels.to(device)\n",
    "    test_data = test_data.to(device)\n",
    "    test_labels = test_labels.to(device)\n",
    "    model = model.to(device)"
   ]
  },
  {
   "cell_type": "markdown",
   "id": "b5b59a8c",
   "metadata": {},
   "source": [
    "### Create the optimizer\n",
    "PyTorch also has a number of optimization algorithms (https://pytorch.org/docs/stable/optim.html). The most popular include:\n",
    "- SGD: A machine learning staple, particularly popular for its simplicity and effectiveness in large-scale learning problems.\n",
    "- Adam: One of the most popular optimizers, especially for deep learning tasks, due to its adaptive learning rate and momentum.\n",
    "- AdamW: Increasingly popular in deep learning, particularly with transformer models.\n",
    "- RMSprop: Frequently used for training recurrent neural networks, valued for its adaptive learning rate.\n",
    "- Adagrad: Widely used in natural language processing and other tasks with sparse data.\n",
    "\n",
    "Here we use the popular Adam optimizer. Tutorials often use stochastic gradient decent (SGD) but Adam often works better."
   ]
  },
  {
   "cell_type": "code",
   "execution_count": 23,
   "id": "f1a6d082257adccd",
   "metadata": {
    "collapsed": false,
    "jupyter": {
     "outputs_hidden": false
    }
   },
   "outputs": [],
   "source": [
    "# The default learning rate is 0.001, but we can experiment.\n",
    "learning_rate = 0.03\n",
    "optimizer = torch.optim.Adam(model.parameters(), lr=learning_rate)\n",
    "\n",
    "# There are many optimizers available in PyTorch.\n",
    "# You can experiment with different ones.\n",
    "# optimizer = torch.optim.SGD(model.parameters(), lr=learning_rate)"
   ]
  },
  {
   "cell_type": "markdown",
   "id": "7a0f6e55",
   "metadata": {},
   "source": [
    "## Train the model"
   ]
  },
  {
   "cell_type": "code",
   "execution_count": 24,
   "id": "initial_id",
   "metadata": {},
   "outputs": [
    {
     "name": "stdout",
     "output_type": "stream",
     "text": [
      "Epoch 10/100, Loss: 0.669182538986206\n",
      "Epoch 20/100, Loss: 0.6692689061164856\n",
      "Epoch 30/100, Loss: 0.6657899022102356\n",
      "Epoch 40/100, Loss: 0.6644414663314819\n",
      "Epoch 50/100, Loss: 0.6640669703483582\n",
      "Epoch 60/100, Loss: 0.6637852787971497\n",
      "Epoch 70/100, Loss: 0.6632617712020874\n",
      "Epoch 80/100, Loss: 0.6625449061393738\n",
      "Epoch 90/100, Loss: 0.6615057587623596\n",
      "Epoch 100/100, Loss: 0.6600171327590942\n"
     ]
    }
   ],
   "source": [
    "n_epochs = 100\n",
    "\n",
    "train(model,\n",
    "      loss_function,\n",
    "      optimizer,\n",
    "      train_data,\n",
    "      train_labels,\n",
    "      epochs=n_epochs)"
   ]
  },
  {
   "cell_type": "markdown",
   "id": "9423ef0a",
   "metadata": {},
   "source": [
    "We can see now that the weights and biases have changed as a result of training."
   ]
  },
  {
   "cell_type": "code",
   "execution_count": 25,
   "id": "f5df60a0",
   "metadata": {},
   "outputs": [
    {
     "name": "stdout",
     "output_type": "stream",
     "text": [
      "net.0.weight:\n",
      "tensor([[-0.0424, -0.1704],\n",
      "        [-0.1122,  1.5067],\n",
      "        [-0.3356, -0.7513],\n",
      "        [-0.0209, -0.1105]], device='cuda:0')\n",
      "net.0.bias:\n",
      "tensor([ 0.2527,  0.2512,  0.6327, -0.2448], device='cuda:0')\n",
      "net.2.weight:\n",
      "tensor([[-0.5404,  0.4067,  0.7909, -1.0489],\n",
      "        [-0.3080,  0.6792, -0.6439, -0.0459]], device='cuda:0')\n",
      "net.2.bias:\n",
      "tensor([-0.4900, -0.5296], device='cuda:0')\n",
      "net.4.weight:\n",
      "tensor([[-0.8381, -0.5389]], device='cuda:0')\n",
      "net.4.bias:\n",
      "tensor([-0.2900], device='cuda:0')\n"
     ]
    }
   ],
   "source": [
    "print_weights_and_biases(model)"
   ]
  },
  {
   "cell_type": "markdown",
   "id": "9519cb91",
   "metadata": {},
   "source": [
    "## Test the model"
   ]
  },
  {
   "cell_type": "code",
   "execution_count": 26,
   "id": "c958c667f6839c9f",
   "metadata": {
    "collapsed": false,
    "jupyter": {
     "outputs_hidden": false
    }
   },
   "outputs": [
    {
     "name": "stdout",
     "output_type": "stream",
     "text": [
      "Test Accuracy: 61.43%\n"
     ]
    }
   ],
   "source": [
    "# Set the model to evaluation mode as opposed to training mode. This is necessary in general because\n",
    "# some model layers behave differently during training than during inference, such as dropout layers\n",
    "# and batch normalization layers.\n",
    "model.eval()\n",
    "\n",
    "# disable gradient calculation, which is unnecessary during inference\n",
    "with torch.no_grad():\n",
    "    # The output layer of the network consists of a single neuron that uses a sigmoid activation function.\n",
    "    # This will output values between 0 and 1. We check whether this value is >= 0.5, if so we assume it\n",
    "    # refers to class 1, otherwise class 0.\n",
    "    output = model(test_data)\n",
    "    predictions = output.view(-1) >= 0.5\n",
    "\n",
    "    accuracy = (predictions.float() == test_labels).float().mean().item()\n",
    "    print(f'Test Accuracy: {accuracy * 100:.2f}%')"
   ]
  },
  {
   "cell_type": "code",
   "execution_count": 27,
   "id": "018efe94",
   "metadata": {},
   "outputs": [
    {
     "data": {
      "text/plain": [
       "0.6142857074737549"
      ]
     },
     "execution_count": 27,
     "metadata": {},
     "output_type": "execute_result"
    }
   ],
   "source": [
    "# Here the accuracy calculation is repeated so that we can break it down.\n",
    "(predictions.float() == test_labels).float().mean().item()"
   ]
  },
  {
   "cell_type": "code",
   "execution_count": 28,
   "id": "b9a0ab9d",
   "metadata": {},
   "outputs": [
    {
     "data": {
      "text/plain": [
       "tensor([[0.4698],\n",
       "        [0.4622],\n",
       "        [0.4597],\n",
       "        [0.4490],\n",
       "        [0.4530],\n",
       "        [0.5182],\n",
       "        [0.5368],\n",
       "        [0.5855],\n",
       "        [0.6032],\n",
       "        [0.6051],\n",
       "        [0.6149],\n",
       "        [0.6200],\n",
       "        [0.6177],\n",
       "        [0.5982],\n",
       "        [0.5462],\n",
       "        [0.4477],\n",
       "        [0.3681],\n",
       "        [0.3542],\n",
       "        [0.3618],\n",
       "        [0.3720],\n",
       "        [0.3710],\n",
       "        [0.3641],\n",
       "        [0.3727],\n",
       "        [0.3859],\n",
       "        [0.4199],\n",
       "        [0.6051],\n",
       "        [0.6573],\n",
       "        [0.6335],\n",
       "        [0.6536],\n",
       "        [0.6701],\n",
       "        [0.6823],\n",
       "        [0.6852],\n",
       "        [0.6816],\n",
       "        [0.6687],\n",
       "        [0.6393],\n",
       "        [0.4724],\n",
       "        [0.4973],\n",
       "        [0.5008],\n",
       "        [0.5178],\n",
       "        [0.4978],\n",
       "        [0.4612],\n",
       "        [0.4147],\n",
       "        [0.3817],\n",
       "        [0.3737],\n",
       "        [0.3727],\n",
       "        [0.3816],\n",
       "        [0.3874],\n",
       "        [0.3935],\n",
       "        [0.4031],\n",
       "        [0.4282],\n",
       "        [0.5706],\n",
       "        [0.6257],\n",
       "        [0.6228],\n",
       "        [0.6284],\n",
       "        [0.6427],\n",
       "        [0.6526],\n",
       "        [0.6599],\n",
       "        [0.6523],\n",
       "        [0.6449],\n",
       "        [0.6044],\n",
       "        [0.4232],\n",
       "        [0.3542],\n",
       "        [0.3427],\n",
       "        [0.3599],\n",
       "        [0.3481],\n",
       "        [0.3326],\n",
       "        [0.3235],\n",
       "        [0.3283],\n",
       "        [0.3547],\n",
       "        [0.3880]], device='cuda:0', grad_fn=<SigmoidBackward0>)"
      ]
     },
     "execution_count": 28,
     "metadata": {},
     "output_type": "execute_result"
    }
   ],
   "source": [
    "model(test_data)"
   ]
  },
  {
   "cell_type": "markdown",
   "id": "fee5182b",
   "metadata": {},
   "source": [
    "## Visualize the decision boundary of the trained model"
   ]
  },
  {
   "cell_type": "code",
   "execution_count": 29,
   "id": "6700dff8",
   "metadata": {},
   "outputs": [],
   "source": [
    "import matplotlib.pyplot as plt\n",
    "import numpy as np"
   ]
  },
  {
   "cell_type": "code",
   "execution_count": 30,
   "id": "c4c7adf9-371f-4eeb-af9c-4ad12c2e98a6",
   "metadata": {},
   "outputs": [],
   "source": [
    "def plot_decision_boundary(model, data, labels):\n",
    "    \"\"\"\n",
    "    Plots the decision boundary created by a neural network model along with the data points.\n",
    "\n",
    "    Args:\n",
    "        model: The trained neural network model.\n",
    "        data (tensor): The input data as a PyTorch tensor.\n",
    "        labels (tensor): The labels corresponding to the input data.\n",
    "\n",
    "    This function converts the PyTorch tensors to NumPy arrays, generates a meshgrid to represent the space,\n",
    "    predicts the model's outputs over this grid to determine where the decision boundary lies, and plots\n",
    "    the results using a contour plot alongside the original training examples.\n",
    "    \"\"\"\n",
    "    # Convert the data from PyTorch tensors to NumPy arrays for plotting\n",
    "    data_np = data.numpy()\n",
    "    labels_np = labels.numpy()\n",
    "    \n",
    "    # Define the range for the grid that will represent the decision surface\n",
    "    # Expand the range slightly beyond the min and max values to ensure all data points are well-contained within the plot\n",
    "    x_min, x_max = data_np[:, 0].min() - 1, data_np[:, 0].max() + 1\n",
    "    y_min, y_max = data_np[:, 1].min() - 1, data_np[:, 1].max() + 1\n",
    "\n",
    "    # Create a meshgrid which will be used for plotting the decision boundary\n",
    "    # np.arange creates a vector of values from x_min to x_max with a step size of 0.1\n",
    "    xx, yy = np.meshgrid(np.arange(x_min, x_max, 0.1),\n",
    "                         np.arange(y_min, y_max, 0.1),\n",
    "                         indexing='ij')\n",
    "    \n",
    "    # Predicting over the meshgrid\n",
    "    # Flatten the grid so the model can classify every point in the space\n",
    "    grid = torch.from_numpy(np.c_[xx.ravel(), yy.ravel()]).float()\n",
    "\n",
    "    # Predict the function output for all points in the grid without tracking gradients\n",
    "    with torch.no_grad():\n",
    "        preds = model(grid).view(xx.shape) >= 0.5\n",
    "    \n",
    "    # Convert predictions back to a NumPy array for plotting\n",
    "    preds_np = preds.numpy()\n",
    "    \n",
    "    # Create a contour plot to show the decision boundary\n",
    "    # contourf fills between the regions, alpha controls transparency, and levels set the threshold for classification\n",
    "    plt.contourf(xx,\n",
    "                 yy,\n",
    "                 preds_np,\n",
    "                 alpha=0.5,\n",
    "                 levels=[-0.5, 0.5, 1.5],\n",
    "                 colors=['red', 'blue']\n",
    "                 )\n",
    "\n",
    "    # Scatter plot of the actual data points; color-coded by their labels\n",
    "    plt.scatter(x=data_np[:, 0],\n",
    "                y=data_np[:, 1],\n",
    "                c=labels_np,\n",
    "                cmap=plt.cm.RdYlBu,\n",
    "                edgecolors='k')\n",
    "\n",
    "    # Label the axes and the plot\n",
    "    plt.xlabel('X1')\n",
    "    plt.ylabel('X2')\n",
    "    plt.title('Decision Boundary and Training Data')\n",
    "    plt.show()"
   ]
  },
  {
   "cell_type": "markdown",
   "id": "541ee6f8",
   "metadata": {},
   "source": [
    "Move the training data and model back to CPU if necessary."
   ]
  },
  {
   "cell_type": "code",
   "execution_count": 31,
   "id": "8511de61",
   "metadata": {},
   "outputs": [],
   "source": [
    "if device != 'cpu':\n",
    "    train_data = train_data.to('cpu')\n",
    "    train_labels = train_labels.to('cpu')\n",
    "    model = model.to('cpu')"
   ]
  },
  {
   "cell_type": "code",
   "execution_count": 32,
   "id": "df393293-a636-441e-b691-b24e9cf96077",
   "metadata": {},
   "outputs": [
    {
     "data": {
      "image/png": "[encoded data removed]",
      "text/plain": [
       "<Figure size 640x480 with 1 Axes>"
      ]
     },
     "metadata": {},
     "output_type": "display_data"
    }
   ],
   "source": [
    "plot_decision_boundary(model, train_data, train_labels)"
   ]
  },
  {
   "cell_type": "markdown",
   "id": "79386ea9",
   "metadata": {},
   "source": [
    "# Challenge\n",
    "The demo PyTorch neural network doesn't train very well on the concentric rings dataset, and does a poor job on the spiral dataset. Experiment with the code to produce better models. You can change any of the hyperparameters including the learning rate, number of layers, number of neurons in a given layer, and choice of activation function. You can also change the number of training epochs, configure the optimizer differently or use a different optimizer. You might like to try out ideas using TensorFlow Playground where it's easier to experiment with the network topology and other options. You can then implement any promising ideas in code."
   ]
  }
 ],
 "metadata": {
  "kernelspec": {
   "display_name": "AI-ML-Bootcamp-24-25",
   "language": "python",
   "name": "python3"
  },
  "language_info": {
   "codemirror_mode": {
    "name": "ipython",
    "version": 3
   },
   "file_extension": ".py",
   "mimetype": "text/x-python",
   "name": "python",
   "nbconvert_exporter": "python",
   "pygments_lexer": "ipython3",
   "version": "3.12.3"
  }
 },
 "nbformat": 4,
 "nbformat_minor": 5
}
