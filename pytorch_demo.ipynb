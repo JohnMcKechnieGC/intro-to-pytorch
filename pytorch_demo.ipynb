{
 "cells": [
  {
   "cell_type": "markdown",
   "id": "6c4fa41d",
   "metadata": {},
   "source": [
    "# Pytorch Demo\n",
    "This PyTorch demo is based around some of the ideas we encountered when looking at the browser-based TensorFlow playground: https://playground.tensorflow.org/\n",
    "\n",
    "See https://pytorch.org/ for the extensive PyTorch documentation including how to get started, tutorials, recipies and link to the PyTorch YouTube series."
   ]
  },
  {
   "cell_type": "markdown",
   "id": "bcf057df",
   "metadata": {},
   "source": [
    "First we will import PyTorch."
   ]
  },
  {
   "cell_type": "code",
   "execution_count": 1,
   "id": "196a6fc7393e5faa",
   "metadata": {
    "collapsed": false,
    "is_executing": true,
    "jupyter": {
     "outputs_hidden": false
    }
   },
   "outputs": [],
   "source": [
    "import torch\n",
    "import torch.nn as nn"
   ]
  },
  {
   "cell_type": "markdown",
   "id": "31c56c22",
   "metadata": {},
   "source": [
    "If we have a GPU available, we'll use it. Otherwise we'll use the CPU."
   ]
  },
  {
   "cell_type": "code",
   "execution_count": 2,
   "id": "c4340727",
   "metadata": {},
   "outputs": [
    {
     "data": {
      "text/plain": [
       "device(type='cuda')"
      ]
     },
     "execution_count": 2,
     "metadata": {},
     "output_type": "execute_result"
    }
   ],
   "source": [
    "device = torch.device('cuda' if torch.cuda.is_available() else 'cpu')\n",
    "#device = 'cpu'  # Or uncomment to explicitly set to CPU if you wish\n",
    "\n",
    "device"
   ]
  },
  {
   "cell_type": "markdown",
   "id": "f6716da5",
   "metadata": {},
   "source": [
    "Set the PyTorch random seed for reproducibility."
   ]
  },
  {
   "cell_type": "code",
   "execution_count": 3,
   "id": "a6710e83f37507a8",
   "metadata": {
    "collapsed": false,
    "jupyter": {
     "outputs_hidden": false
    }
   },
   "outputs": [
    {
     "data": {
      "text/plain": [
       "<torch._C.Generator at 0x2c8908d8390>"
      ]
     },
     "execution_count": 3,
     "metadata": {},
     "output_type": "execute_result"
    }
   ],
   "source": [
    "torch.manual_seed(42)"
   ]
  },
  {
   "cell_type": "markdown",
   "id": "209c0ac0",
   "metadata": {},
   "source": [
    "## Functions to generate random 2D data points.\n",
    "These functions generate the datasets that we can use to train our neural network. They are similar to the datasets available on TensorFlow Playground."
   ]
  },
  {
   "cell_type": "markdown",
   "id": "17330fa2",
   "metadata": {},
   "source": [
    "### Exclusive or (XOR)\n",
    "This one is similar to the 'Exclusive or' dataset from TensorFlow Playground."
   ]
  },
  {
   "cell_type": "code",
   "execution_count": 4,
   "id": "3b2b92b0f7ca0f2b",
   "metadata": {
    "collapsed": false,
    "jupyter": {
     "outputs_hidden": false
    }
   },
   "outputs": [],
   "source": [
    "def generate_xor_data(num_points, range_min=-6, range_max=6):\n",
    "    \"\"\"\n",
    "    Generates a dataset that represents the XOR logic gate. Points from different quadrants \n",
    "    will belong to different classes, mimicking the non-linear separability of XOR.\n",
    "\n",
    "    Args:\n",
    "        num_points (int): Number of data points to generate.\n",
    "        range_min (int): Minimum value of the range for generating data points.\n",
    "        range_max (int): Maximum value of the range for generating data points.\n",
    "\n",
    "    Returns:\n",
    "        Tuple of (points, labels): where 'points' are the coordinates of the data points,\n",
    "        and 'labels' are the corresponding binary class labels.\n",
    "    \"\"\"\n",
    "\n",
    "    # Generate random points within the specified range\n",
    "    points = (range_max - range_min) * torch.rand(num_points, 2) + range_min\n",
    "    labels = torch.zeros(num_points, dtype=torch.float32)\n",
    "\n",
    "    # Assign labels based on the XOR logic: opposite quadrants have different labels\n",
    "    for i in range(num_points):\n",
    "        if points[i,0] * points[i,1] < 0:  # i.e. if one and only one of the dimensions is negative\n",
    "            labels[i] = 1.0\n",
    "    return points, labels"
   ]
  },
  {
   "cell_type": "markdown",
   "id": "f567da0a",
   "metadata": {},
   "source": [
    "### Gaussian\n",
    "This function generates data where it's possible to draw a straight line between both classes. It is similar to the 'Gaussian' dataset on TensorFlow Playground."
   ]
  },
  {
   "cell_type": "code",
   "execution_count": 5,
   "id": "f03a78c9",
   "metadata": {},
   "outputs": [],
   "source": [
    "def generate_linerarly_separable_data(num_points, range_min=-6, range_max=6):\n",
    "    \"\"\"\n",
    "    Generates a set of linearly separable 2D data points. The separability is based on the sum of \n",
    "    the point coordinates. Points below the line x + y = 0 are labeled as one class, and above as another.\n",
    "\n",
    "    Args:\n",
    "        num_points (int): The number of data points to generate.\n",
    "        range_min (int): The minimum value of the range for each coordinate.\n",
    "        range_max (int): The maximum value of the range for each coordinate.\n",
    "\n",
    "    Returns:\n",
    "        points (Tensor): A tensor of shape (num_points, 2), where each row represents a point (x, y).\n",
    "        labels (Tensor): A tensor of shape (num_points,), containing the label (0 or 1) for each point.\n",
    "    \"\"\"\n",
    "    # Generate random points uniformly distributed within the specified range\n",
    "    points = (range_max - range_min) * torch.rand(num_points, 2) + range_min\n",
    "    labels = torch.zeros(num_points, dtype=torch.float32)\n",
    "\n",
    "    # Label each point based on its position relative to the line x + y = 0\n",
    "    for i in range(num_points):\n",
    "        if points[i, 0] + points[i, 1] < 0:  # i.e. if the point is below the diagonal line x + y = 0\n",
    "            labels[i] = 1.0\n",
    "    return points, labels"
   ]
  },
  {
   "cell_type": "markdown",
   "id": "555415f3",
   "metadata": {},
   "source": [
    "### Circle\n",
    "This function generates a ring of points within another ring of points. It is similar to the 'Circle' dataset on TensorFlow Playground."
   ]
  },
  {
   "cell_type": "code",
   "execution_count": 6,
   "id": "24989d18",
   "metadata": {},
   "outputs": [],
   "source": [
    "def generate_ring_data(num_points, inner_radius=1.5, outer_radius=5):\n",
    "    \"\"\"\n",
    "    Generates a dataset with points distributed in two concentric rings. Points in the inner ring\n",
    "    belong to one class, and points in the outer ring belong to another class.\n",
    "\n",
    "    Args:\n",
    "        num_points (int): Total number of data points to generate.\n",
    "        inner_radius (float): Radius of the inner circle defining the first class.\n",
    "        outer_radius (float): Radius of the outer circle defining the second class.\n",
    "\n",
    "    Returns:\n",
    "        points (Tensor): A tensor of shape (num_points, 2), each row represents a point (x, y).\n",
    "        labels (Tensor): A tensor of shape (num_points,), containing the label (0 or 1) for each point.\n",
    "    \"\"\"\n",
    "    # Initialize tensors for points and labels\n",
    "    points = torch.zeros(num_points, 2)\n",
    "    labels = torch.zeros(num_points, dtype=torch.float32)\n",
    "\n",
    "    # Half the points go into the inner circle, half into the outer\n",
    "    for i in range(num_points):\n",
    "        angle = torch.rand(1) * 2 * torch.pi  # Random angle\n",
    "        if i < num_points // 2:\n",
    "            # Random radius in the inner ring\n",
    "            radius = torch.rand(1) * (inner_radius - 0.5) + 0.5\n",
    "            labels[i] = 1.0  # Class 1 for inner ring\n",
    "        else:\n",
    "            # Random radius in the outer ring (with a padding of 1 between inner and outer rings)\n",
    "            radius = torch.rand(1) * (outer_radius -\n",
    "                                      inner_radius - 1) + inner_radius + 1\n",
    "            labels[i] = 0.0  # Class 0 for outer ring\n",
    "\n",
    "        # Convert polar coordinates to Cartesian coordinates\n",
    "        points[i, 0] = radius * torch.cos(angle)  # x coordinate\n",
    "        points[i, 1] = radius * torch.sin(angle)  # y coordinate\n",
    "\n",
    "    return points, labels"
   ]
  },
  {
   "cell_type": "markdown",
   "id": "624e4b9e",
   "metadata": {},
   "source": [
    "### Spiral\n",
    "This function generates data similar to the 'Spiral' dataset on TensorFlow Playground. This function is a Python/PyTorch port of the actual TensorFlow Playground code, specifically the classifySpiralData function written in TypeScript and available on Github: https://github.com/tensorflow/playground/blob/master/src/dataset.ts"
   ]
  },
  {
   "cell_type": "code",
   "execution_count": 7,
   "id": "30108c3e",
   "metadata": {},
   "outputs": [],
   "source": [
    "def generate_spiral_data(num_samples, noise=0.1):\n",
    "    \"\"\"\n",
    "    Generates a 2D spiral dataset suitable for classification tasks.\n",
    "    \n",
    "    Args:\n",
    "        num_samples (int): Total number of samples to generate. Should be an even number.\n",
    "        noise (float): Amount of noise to add to the data points. Higher values add more noise.\n",
    "\n",
    "    Returns:\n",
    "        torch.Tensor: A tensor of shape (num_samples, 3), where each row represents a point\n",
    "                      (x, y, label). 'label' is 1 for positive class and 0 for negative class.\n",
    "    \n",
    "    The dataset consists of two interleaved spirals with labels 1 and 0 respectively. Noise is added\n",
    "    to the points to make the classification task non-trivial.\n",
    "    \"\"\"\n",
    "    assert num_samples % 2 == 0  # Make sure num_samples is even\n",
    "\n",
    "    points = torch.zeros((num_samples, 2))\n",
    "    labels = torch.zeros(num_samples)\n",
    "    n = num_samples // 2\n",
    "\n",
    "    def gen_spiral(delta_t, label, start_idx):\n",
    "        \"\"\"\n",
    "        Generates a single spiral.\n",
    "\n",
    "        Args:\n",
    "            delta_t (float): Phase shift for generating the second spiral. In a spiral, points are\n",
    "                             distributed around a central point with a certain angular displacement.\n",
    "                             By adding a phase shift (delta_t), we can generate a second spiral that\n",
    "                             is interleaved with the first one. In the function, delta_t is set to 0\n",
    "                             for the first spiral and to π (pi) for the second spiral, ensuring that\n",
    "                             the two spirals are offset by half a rotation, thus intertwining them.\n",
    "            label (int) : The label (0 or 1) for this spiral.\n",
    "            start_idx (int): An offset to ensure that the second spiral doesn't overwrite th points\n",
    "                             and labels of the first spiral. \n",
    "        \"\"\"\n",
    "        for i in range(n):\n",
    "            # Radius of the spiral at a particular point: r determines how far a point is from the centre\n",
    "            # of the spiral. It is calculated as i / n * 5, where i is the index of the point and n is\n",
    "            # half the total number of samples (since each spiral contains half of the points). This\n",
    "            # ensures that r increases linearly from 0 to 5 as i goes from 0 to n, causing points to\n",
    "            # spiral outward from the center.\n",
    "            r = torch.tensor(i / n * 5)\n",
    "\n",
    "            # Angle for the current point in the spiral: t determines the angular position of the point\n",
    "            # around the center of the spiral. It is calculated as 1.75 * i / n * 2 * π + delta_t. The\n",
    "            # term 1.75 * i / n * 2 * π creates a spiral that makes approximately 1.75 full turns as i\n",
    "            # goes from 0 to n. Adding delta_t shifts the phase of the spiral to create the second\n",
    "            # interleaved spiral.\n",
    "            t = torch.tensor(1.75 * i / n * 2 * torch.pi + delta_t)\n",
    "            \n",
    "            x = r * torch.sin(t) + (torch.rand(1) * 2 - 1) * noise\n",
    "            y = r * torch.cos(t) + (torch.rand(1) * 2 - 1) * noise\n",
    "            points[start_idx + i, 0] = x\n",
    "            points[start_idx + i, 1] = y\n",
    "            labels[start_idx + i] = label\n",
    "\n",
    "    gen_spiral(0, 1, 0)         # Positive examples\n",
    "    gen_spiral(torch.pi, 0, n)  # Negative examples (the original function used -1 as label rather than 0)\n",
    "    return points, labels"
   ]
  },
  {
   "cell_type": "markdown",
   "id": "45f7c7ee",
   "metadata": {},
   "source": [
    "## Generate the data\n",
    "We can easily vary the dataset by choosing one of the data generation functions."
   ]
  },
  {
   "cell_type": "code",
   "execution_count": 8,
   "id": "c1fca579d6abe888",
   "metadata": {
    "collapsed": false,
    "jupyter": {
     "outputs_hidden": false
    }
   },
   "outputs": [],
   "source": [
    "TRAINING_SET_SIZE = 300\n",
    "TEST_SET_SIZE = 70\n",
    "\n",
    "generate_data = generate_xor_data\n",
    "# generate_data = generate_linerarly_separable_data\n",
    "# generate_data = generate_ring_data\n",
    "# generate_data = generate_spiral_data\n",
    "\n",
    "train_data, train_labels = generate_data(TRAINING_SET_SIZE)\n",
    "test_data, test_labels = generate_data(TEST_SET_SIZE)"
   ]
  },
  {
   "cell_type": "code",
   "execution_count": 9,
   "id": "7779095e",
   "metadata": {},
   "outputs": [
    {
     "data": {
      "text/plain": [
       "tensor([[ 4.5872,  4.9800],\n",
       "        [-1.4056,  5.5117],\n",
       "        [-1.3146,  1.2107],\n",
       "        [-2.9211,  3.5237],\n",
       "        [ 5.2893, -4.4018],\n",
       "        [ 5.2152,  1.1230],\n",
       "        [ 4.4329,  0.8126],\n",
       "        [ 2.8931, -0.8471],\n",
       "        [ 4.6253,  0.8869],\n",
       "        [-2.8010,  1.5294],\n",
       "        [-2.7644, -0.7036],\n",
       "        [-2.4369,  3.9802],\n",
       "        [-4.7362, -2.7661],\n",
       "        [-1.6942, -3.6076],\n",
       "        [ 0.5663, -5.9261],\n",
       "        [ 5.4187, -5.0968],\n",
       "        [ 4.6322,  0.9985],\n",
       "        [-1.9482,  3.7077],\n",
       "        [ 0.9351,  4.8478],\n",
       "        [ 0.6559, -1.8922],\n",
       "        [ 1.6121, -1.6271],\n",
       "        [ 2.5251,  5.3569],\n",
       "        [ 3.4684, -2.6230],\n",
       "        [ 3.4636,  1.0736],\n",
       "        [ 3.0470, -3.6570],\n",
       "        [-5.9395, -2.3182],\n",
       "        [-4.6021,  4.9232],\n",
       "        [ 1.7282,  2.4853],\n",
       "        [ 1.8976, -0.1044],\n",
       "        [ 4.6957, -4.2631],\n",
       "        [ 0.3778, -4.0952],\n",
       "        [ 1.8501, -2.0663],\n",
       "        [ 1.8385, -1.2500],\n",
       "        [ 4.9764, -3.5562],\n",
       "        [-3.5784, -3.5786],\n",
       "        [ 5.3967,  1.9995],\n",
       "        [ 5.7735, -4.9517],\n",
       "        [-5.9513, -4.6942],\n",
       "        [-4.0361,  2.4302],\n",
       "        [ 2.1485,  4.9855],\n",
       "        [-3.0986, -4.0903],\n",
       "        [ 3.1835, -2.4252],\n",
       "        [ 3.6415, -1.4238],\n",
       "        [ 3.4323, -4.6618],\n",
       "        [-3.0279,  1.8293],\n",
       "        [ 1.2684, -1.5298],\n",
       "        [ 3.5764,  4.0789],\n",
       "        [-4.3510, -3.2032],\n",
       "        [ 5.4940, -2.0246],\n",
       "        [-2.1271, -5.8056],\n",
       "        [-3.4360,  1.4988],\n",
       "        [-0.7920, -4.3553],\n",
       "        [ 0.1407, -4.0985],\n",
       "        [-5.0904, -3.3040],\n",
       "        [-5.2513, -3.8204],\n",
       "        [ 5.9977,  1.1332],\n",
       "        [ 1.8490, -5.5961],\n",
       "        [-3.9406, -1.9971],\n",
       "        [ 0.9382, -5.2795],\n",
       "        [-2.5852, -3.5920],\n",
       "        [ 0.0166, -2.2326],\n",
       "        [-0.4158, -4.0658],\n",
       "        [-4.1184, -3.5004],\n",
       "        [-2.0538, -4.7357],\n",
       "        [ 5.0308, -1.1908],\n",
       "        [ 5.1624,  1.8695],\n",
       "        [-5.0808,  4.1522],\n",
       "        [-1.6509, -2.3000],\n",
       "        [-4.9804, -5.9650],\n",
       "        [ 1.7167, -1.3107],\n",
       "        [ 2.3359, -4.9240],\n",
       "        [ 4.4546, -4.4043],\n",
       "        [-1.0360,  1.2532],\n",
       "        [ 3.0975,  4.8439],\n",
       "        [ 5.4658, -4.7575],\n",
       "        [ 1.5100, -2.5808],\n",
       "        [-0.6575, -4.4909],\n",
       "        [ 5.4652, -4.4037],\n",
       "        [ 3.2067,  2.1086],\n",
       "        [ 1.9497, -3.2439],\n",
       "        [ 5.4537,  1.3185],\n",
       "        [ 0.7718, -5.2875],\n",
       "        [ 2.5187, -0.9001],\n",
       "        [-2.7487,  5.1537],\n",
       "        [ 1.3377, -3.3197],\n",
       "        [-3.0368, -0.2865],\n",
       "        [ 3.3502, -1.5332],\n",
       "        [-3.4234, -2.0547],\n",
       "        [-4.4824,  2.1398],\n",
       "        [ 4.6442, -5.6486],\n",
       "        [ 1.3935,  3.0996],\n",
       "        [ 1.0880, -2.1367],\n",
       "        [ 3.1317,  3.1531],\n",
       "        [ 2.2436, -1.0543],\n",
       "        [-1.5888,  0.6419],\n",
       "        [-1.0599, -1.7880],\n",
       "        [ 3.8352,  5.1564],\n",
       "        [-0.5940, -1.3434],\n",
       "        [ 0.0876, -0.3582],\n",
       "        [ 1.4425,  1.6814],\n",
       "        [-5.4495, -2.2142],\n",
       "        [ 5.0528,  2.3373],\n",
       "        [-0.2984, -3.6174],\n",
       "        [-3.6708, -5.3746],\n",
       "        [-1.9558,  2.0262],\n",
       "        [ 3.8257,  2.7702],\n",
       "        [-5.3037, -3.6082],\n",
       "        [-0.9469,  5.8041],\n",
       "        [ 0.8679, -1.5538],\n",
       "        [ 2.4823, -2.2853],\n",
       "        [-3.8835,  4.3793],\n",
       "        [-2.7282, -1.2028],\n",
       "        [-5.9688,  4.0156],\n",
       "        [ 4.5458,  2.1867],\n",
       "        [-4.1836, -5.9216],\n",
       "        [-4.8731,  4.4742],\n",
       "        [ 2.8806,  5.0490],\n",
       "        [ 3.1432,  1.5186],\n",
       "        [-0.0588, -4.5630],\n",
       "        [-5.1406, -5.6121],\n",
       "        [ 2.4562, -2.9458],\n",
       "        [-1.2075, -3.4530],\n",
       "        [-1.0933, -4.2230],\n",
       "        [-3.9205,  1.9903],\n",
       "        [-1.7832,  3.7041],\n",
       "        [-1.9249, -4.4014],\n",
       "        [-1.0586, -2.9085],\n",
       "        [-1.8356, -5.7120],\n",
       "        [ 3.3569, -4.1772],\n",
       "        [ 3.0157,  2.7227],\n",
       "        [ 4.2866, -4.6023],\n",
       "        [ 4.3152, -2.8365],\n",
       "        [ 2.2264,  5.6347],\n",
       "        [-0.8462, -0.0464],\n",
       "        [-1.3814, -5.0099],\n",
       "        [ 2.8794, -5.9563],\n",
       "        [ 3.7248,  4.4894],\n",
       "        [ 5.6742, -1.4153],\n",
       "        [-4.9299,  1.3490],\n",
       "        [ 3.3146, -5.9719],\n",
       "        [-1.3619, -3.5967],\n",
       "        [-0.5248, -2.9533],\n",
       "        [-2.4526, -1.9048],\n",
       "        [-5.7018,  4.9230],\n",
       "        [ 5.0300, -0.9412],\n",
       "        [-0.6833, -2.4487],\n",
       "        [-5.4184, -5.8389],\n",
       "        [ 2.2300, -3.2943],\n",
       "        [-3.8573, -0.4681],\n",
       "        [-1.9981, -1.9411],\n",
       "        [ 0.1928, -1.2727],\n",
       "        [-2.0659, -2.8728],\n",
       "        [-4.8830,  5.0310],\n",
       "        [-2.4011,  1.5899],\n",
       "        [-2.0818,  0.4876],\n",
       "        [ 5.5938,  2.7643],\n",
       "        [-5.1996,  2.3814],\n",
       "        [ 5.6955,  1.5785],\n",
       "        [ 4.0225,  5.9153],\n",
       "        [-0.9194,  1.2453],\n",
       "        [-4.1702, -1.2365],\n",
       "        [ 4.4435,  3.0759],\n",
       "        [-3.7967, -4.8113],\n",
       "        [-4.1002, -5.9213],\n",
       "        [-4.6298, -1.4838],\n",
       "        [ 4.0493,  1.0043],\n",
       "        [-4.5636, -4.8133],\n",
       "        [ 2.9849, -4.4630],\n",
       "        [-0.7388,  2.8782],\n",
       "        [-2.7769, -0.6542],\n",
       "        [-0.5223, -1.4195],\n",
       "        [-3.0422, -5.3486],\n",
       "        [-4.8501, -3.2128],\n",
       "        [ 5.7950, -2.8981],\n",
       "        [-4.0292,  1.4544],\n",
       "        [ 1.6537,  3.2875],\n",
       "        [ 4.5607,  3.3412],\n",
       "        [-5.9490,  0.5321],\n",
       "        [ 3.6345, -0.5546],\n",
       "        [-3.5357,  5.7200],\n",
       "        [-2.2442, -3.4161],\n",
       "        [-5.4093,  0.2680],\n",
       "        [ 2.6588,  1.3282],\n",
       "        [ 1.1865, -4.5503],\n",
       "        [-5.6033,  0.1057],\n",
       "        [ 5.4710,  3.4615],\n",
       "        [-3.4934, -0.7789],\n",
       "        [-4.4231, -2.8945],\n",
       "        [ 1.0866,  3.2672],\n",
       "        [ 4.9702, -5.5086],\n",
       "        [ 4.0117, -4.2318],\n",
       "        [ 2.2468,  5.0775],\n",
       "        [ 0.0843,  5.4589],\n",
       "        [-5.1123, -2.2918],\n",
       "        [ 3.4995, -1.3072],\n",
       "        [-1.2282, -2.5008],\n",
       "        [ 4.1358,  2.9430],\n",
       "        [ 1.9227, -3.3718],\n",
       "        [-4.8705,  0.6490],\n",
       "        [ 1.7777, -2.7703],\n",
       "        [-1.6788,  4.0522],\n",
       "        [ 0.4780,  0.2707],\n",
       "        [-1.4766, -5.4335],\n",
       "        [-5.6415, -2.8681],\n",
       "        [-3.0499,  1.8693],\n",
       "        [-1.7467, -2.3473],\n",
       "        [ 5.7206,  2.0899],\n",
       "        [ 4.2774, -2.9047],\n",
       "        [-2.4508,  2.2052],\n",
       "        [-3.9977, -3.9222],\n",
       "        [-0.2898, -2.1946],\n",
       "        [-4.4979,  3.5590],\n",
       "        [ 4.8250,  0.9733],\n",
       "        [-1.0447, -5.5576],\n",
       "        [-2.1854,  1.5275],\n",
       "        [ 2.8292, -0.7585],\n",
       "        [-2.3721,  3.3434],\n",
       "        [-4.7784,  3.7921],\n",
       "        [-2.3277,  0.0918],\n",
       "        [-1.1857,  0.7274],\n",
       "        [-1.8132,  4.3628],\n",
       "        [-0.1560,  4.6836],\n",
       "        [ 5.7689, -2.9231],\n",
       "        [-4.3771,  4.8138],\n",
       "        [ 4.7017, -4.5813],\n",
       "        [-0.4638, -5.9168],\n",
       "        [-4.9116,  1.1589],\n",
       "        [ 1.5962,  1.2719],\n",
       "        [-1.6330,  5.5355],\n",
       "        [ 0.8579, -3.5405],\n",
       "        [-0.3397,  1.4409],\n",
       "        [ 2.1012, -4.2425],\n",
       "        [ 2.2487, -3.0653],\n",
       "        [-4.9856, -3.2772],\n",
       "        [ 5.7865,  5.1291],\n",
       "        [ 5.3729,  3.5221],\n",
       "        [ 4.5327, -0.8031],\n",
       "        [-3.3014,  2.9979],\n",
       "        [-3.1091, -4.0492],\n",
       "        [-1.9160,  1.2592],\n",
       "        [ 3.0888, -2.3305],\n",
       "        [-3.5314,  0.8094],\n",
       "        [-3.5366, -3.9064],\n",
       "        [ 3.1275, -1.0079],\n",
       "        [ 5.4827,  5.8367],\n",
       "        [ 1.7946,  2.0649],\n",
       "        [ 1.3817,  0.0940],\n",
       "        [-0.4364,  0.0825],\n",
       "        [ 2.2405,  5.5786],\n",
       "        [-1.5550, -2.5363],\n",
       "        [-1.4530, -2.8987],\n",
       "        [ 1.0202,  4.4787],\n",
       "        [ 4.6919,  2.7548],\n",
       "        [-4.4156, -3.2202],\n",
       "        [-1.3183, -1.1059],\n",
       "        [ 0.4935, -5.5078],\n",
       "        [ 1.8675, -4.5772],\n",
       "        [-3.7965, -4.9883],\n",
       "        [ 5.2279, -5.6816],\n",
       "        [ 4.5262, -0.2017],\n",
       "        [-0.6978,  3.7529],\n",
       "        [-0.5546,  3.7629],\n",
       "        [ 4.3381, -5.2093],\n",
       "        [ 2.3087,  1.1327],\n",
       "        [ 1.2901,  0.8759],\n",
       "        [ 1.6412, -2.8864],\n",
       "        [-0.7676,  5.7007],\n",
       "        [ 4.0311, -0.2254],\n",
       "        [-5.6432,  0.2630],\n",
       "        [-4.0858,  4.8791],\n",
       "        [-3.6425, -0.4332],\n",
       "        [-1.3317,  1.0677],\n",
       "        [ 5.6462,  0.5701],\n",
       "        [ 3.4750,  4.6573],\n",
       "        [ 4.8439, -2.0721],\n",
       "        [-1.3419,  2.8916],\n",
       "        [-1.6372,  2.8096],\n",
       "        [-1.3108, -4.0695],\n",
       "        [ 2.4423,  0.9199],\n",
       "        [ 2.6751,  5.9609],\n",
       "        [ 4.0964,  5.6879],\n",
       "        [ 0.3211, -5.1613],\n",
       "        [-4.2092, -3.7270],\n",
       "        [-5.2875, -3.0075],\n",
       "        [-5.5234, -5.5357],\n",
       "        [-3.5853, -5.9150],\n",
       "        [-3.6829,  2.2879],\n",
       "        [ 5.0043, -1.7848],\n",
       "        [-1.7453,  3.2037],\n",
       "        [-2.9602, -2.8370],\n",
       "        [ 3.6968, -5.2278],\n",
       "        [ 0.7336,  5.3003],\n",
       "        [ 1.0289,  1.6317],\n",
       "        [-3.4943, -0.0828],\n",
       "        [ 0.3299,  1.4726],\n",
       "        [ 2.3313,  5.2136],\n",
       "        [-4.5798,  0.1799],\n",
       "        [-2.9978, -4.7464],\n",
       "        [-0.4805, -5.2814],\n",
       "        [ 4.1874,  0.6949]])"
      ]
     },
     "execution_count": 9,
     "metadata": {},
     "output_type": "execute_result"
    }
   ],
   "source": [
    "train_data"
   ]
  },
  {
   "cell_type": "code",
   "execution_count": 10,
   "id": "fb057796",
   "metadata": {},
   "outputs": [
    {
     "data": {
      "text/plain": [
       "tensor([0., 1., 1., 1., 1., 0., 0., 1., 0., 1., 0., 1., 0., 0., 1., 1., 0., 1.,\n",
       "        0., 1., 1., 0., 1., 0., 1., 0., 1., 0., 1., 1., 1., 1., 1., 1., 0., 0.,\n",
       "        1., 0., 1., 0., 0., 1., 1., 1., 1., 1., 0., 0., 1., 0., 1., 0., 1., 0.,\n",
       "        0., 0., 1., 0., 1., 0., 1., 0., 0., 0., 1., 0., 1., 0., 0., 1., 1., 1.,\n",
       "        1., 0., 1., 1., 0., 1., 0., 1., 0., 1., 1., 1., 1., 0., 1., 0., 1., 1.,\n",
       "        0., 1., 0., 1., 1., 0., 0., 0., 1., 0., 0., 0., 0., 0., 1., 0., 0., 1.,\n",
       "        1., 1., 1., 0., 1., 0., 0., 1., 0., 0., 0., 0., 1., 0., 0., 1., 1., 0.,\n",
       "        0., 0., 1., 0., 1., 1., 0., 0., 0., 1., 0., 1., 1., 1., 0., 0., 0., 1.,\n",
       "        1., 0., 0., 1., 0., 0., 1., 0., 1., 1., 1., 0., 1., 0., 0., 1., 0., 0.,\n",
       "        0., 0., 0., 0., 0., 1., 1., 0., 0., 0., 0., 1., 1., 0., 0., 1., 1., 1.,\n",
       "        0., 1., 0., 1., 1., 0., 0., 0., 0., 1., 1., 0., 0., 0., 1., 0., 0., 1.,\n",
       "        1., 1., 1., 0., 0., 0., 1., 0., 0., 1., 1., 0., 0., 1., 0., 0., 1., 1.,\n",
       "        1., 1., 1., 1., 1., 1., 1., 1., 1., 0., 1., 0., 1., 1., 1., 1., 1., 0.,\n",
       "        0., 0., 1., 1., 0., 1., 1., 1., 0., 1., 0., 0., 0., 1., 0., 0., 0., 0.,\n",
       "        0., 0., 0., 1., 1., 0., 1., 1., 1., 1., 1., 0., 0., 1., 1., 1., 1., 1.,\n",
       "        0., 1., 0., 0., 1., 1., 1., 0., 0., 0., 0., 1., 0., 0., 0., 0., 1., 1.,\n",
       "        1., 0., 1., 0., 0., 0., 0., 0., 1., 0., 0., 0.])"
      ]
     },
     "execution_count": 10,
     "metadata": {},
     "output_type": "execute_result"
    }
   ],
   "source": [
    "train_labels"
   ]
  },
  {
   "cell_type": "markdown",
   "id": "18f178de",
   "metadata": {},
   "source": [
    "### Visualize the dataset\n",
    "Let's visualize our training data. We'll use Seaborn with a little help from Pandas."
   ]
  },
  {
   "cell_type": "code",
   "execution_count": 11,
   "id": "1d8da8fc",
   "metadata": {},
   "outputs": [],
   "source": [
    "import pandas as pd\n",
    "import seaborn as sns"
   ]
  },
  {
   "cell_type": "code",
   "execution_count": 12,
   "id": "411ebb3b",
   "metadata": {},
   "outputs": [
    {
     "data": {
      "text/plain": [
       "<Axes: xlabel='X1', ylabel='X2'>"
      ]
     },
     "execution_count": 12,
     "metadata": {},
     "output_type": "execute_result"
    },
    {
     "data": {
      "image/png": "[encoded data removed]",
      "text/plain": [
       "<Figure size 640x480 with 1 Axes>"
      ]
     },
     "metadata": {},
     "output_type": "display_data"
    }
   ],
   "source": [
    "training_df = pd.DataFrame()\n",
    "training_df['X1'] = train_data[:, 0]\n",
    "training_df['X2'] = train_data[:, 1]\n",
    "training_df['label'] = train_labels\n",
    "\n",
    "\n",
    "sns.scatterplot(data=training_df,\n",
    "                x=\"X1\",\n",
    "                y=\"X2\",\n",
    "                hue=\"label\")"
   ]
  },
  {
   "cell_type": "markdown",
   "id": "08a61f6a",
   "metadata": {},
   "source": [
    "## Neural network architecture"
   ]
  },
  {
   "cell_type": "code",
   "execution_count": 13,
   "id": "4071fa6f",
   "metadata": {},
   "outputs": [],
   "source": [
    "N_INPUT_NEURONS = 2              # Number of neurons in input layer\n",
    "N_NEURONS_IN_HIDDEN_LAYER_1 = 4  # Number of neurons in first hidden layer\n",
    "N_NEURONS_IN_HIDDEN_LAYER_2 = 2  # Number of neurons in second hidden layer\n",
    "N_OUTPUT_NEURONS = 1             # Number of neurons in output layer"
   ]
  },
  {
   "cell_type": "code",
   "execution_count": 14,
   "id": "71168997b38dcc71",
   "metadata": {
    "collapsed": false,
    "jupyter": {
     "outputs_hidden": false
    }
   },
   "outputs": [],
   "source": [
    "class NeuralNet(nn.Module):\n",
    "    def __init__(self):\n",
    "        super(NeuralNet, self).__init__()\n",
    "\n",
    "        # You can experiment with different activation functions. E.g.:\n",
    "        # self.activation = nn.ReLU()\n",
    "        self.activation_function = nn.Tanh()\n",
    "        \n",
    "        # Define a simple neural network architecture.\n",
    "        # We will use fully-connected 'nn.Linear' layers to transform input to output.\n",
    "        self.net = nn.Sequential(\n",
    "            # Connect all input neurons to all hidden layer 1 neurons\n",
    "            nn.Linear(N_INPUT_NEURONS, N_NEURONS_IN_HIDDEN_LAYER_1),\n",
    "            self.activation_function,\n",
    "\n",
    "            # Connect all hidden layer 1 neurons to all hidden layer 2 neurons\n",
    "            nn.Linear(N_NEURONS_IN_HIDDEN_LAYER_1, N_NEURONS_IN_HIDDEN_LAYER_2),\n",
    "            self.activation_function,\n",
    "\n",
    "            # Connect all hidden layer 2 neurons to the output neuron\n",
    "            nn.Linear(N_NEURONS_IN_HIDDEN_LAYER_2, N_OUTPUT_NEURONS),\n",
    "            # Use the sigmoid activation function for the output node since we have\n",
    "            # a binary classification task and sigmoid outputs over the range 0 to 1.\n",
    "            nn.Sigmoid()\n",
    "        )\n",
    "\n",
    "\n",
    "    def forward(self, inputs):\n",
    "        \"\"\"\n",
    "        Forward pass of the neural network.\n",
    "        Args:\n",
    "            x (tensor): Input data.\n",
    "        Returns:\n",
    "            Output tensor after passing through the network.\n",
    "        \"\"\"\n",
    "        return self.net(inputs)"
   ]
  },
  {
   "cell_type": "markdown",
   "id": "98d30141",
   "metadata": {},
   "source": [
    "Modifying the number of layers and the number of neurons in each layer in the neural network above is quite a manual process. Here we define NeuralNetDynamic that takes a list of integers in the constructor. The length of the list specifies how many hidden layers we'll have, and the value of each integer represents the number of neurons in that hidden layer."
   ]
  },
  {
   "cell_type": "code",
   "execution_count": 15,
   "id": "946921f0",
   "metadata": {},
   "outputs": [],
   "source": [
    "class NeuralNetDynamic(nn.Module):\n",
    "    def __init__(self, hidden_layers):\n",
    "        \"\"\"\n",
    "        Constructs a fully-connected neural network.\n",
    "        Args:\n",
    "            hidden_layers (list of int): Each integer specifies the number of neurons in a hidden layer.\n",
    "        \"\"\"\n",
    "        super(NeuralNetDynamic, self).__init__()\n",
    "\n",
    "        # Default hidden layer activation function.\n",
    "        # This could also be parameterized as an argument to the constructor.\n",
    "        self.activation_function = nn.Tanh()\n",
    "\n",
    "        layers = []\n",
    "        from_neurons = N_INPUT_NEURONS\n",
    "\n",
    "        # Create hidden layers dynamically by connecting the \"from_nuerons\" to the \"to_neurons\".\n",
    "        for to_neurons in hidden_layers:\n",
    "            layers.append(nn.Linear(from_neurons, to_neurons))\n",
    "            layers.append(self.activation_function)\n",
    "            from_neurons = to_neurons  # update the input for the next layer\n",
    "\n",
    "        # Add the output layer: from the last hidden layer to the output neuron(s)\n",
    "        layers.append(nn.Linear(from_neurons, N_OUTPUT_NEURONS))\n",
    "        # output activation for binary classification\n",
    "        layers.append(nn.Sigmoid())\n",
    "\n",
    "        self.net = nn.Sequential(*layers)\n",
    "\n",
    "    def forward(self, inputs):\n",
    "        \"\"\"\n",
    "        Forward pass of the neural network.\n",
    "        Args:\n",
    "            inputs (tensor): Input tensor.\n",
    "        Returns:\n",
    "            Output tensor after passing through the network.\n",
    "        \"\"\"\n",
    "        return self.net(inputs)"
   ]
  },
  {
   "cell_type": "markdown",
   "id": "8163bcf3",
   "metadata": {},
   "source": [
    "## Training procedure"
   ]
  },
  {
   "cell_type": "code",
   "execution_count": 16,
   "id": "2eb6580fe1c556f8",
   "metadata": {
    "collapsed": false,
    "jupyter": {
     "outputs_hidden": false
    }
   },
   "outputs": [],
   "source": [
    "def train(model, loss_function, optimizer, data, labels, epochs):\n",
    "    \"\"\"\n",
    "    Trains the neural network model.\n",
    "\n",
    "    Args:\n",
    "        model: The neural network model to train.\n",
    "        loss_function: Loss function to minimize.\n",
    "        optimizer: Optimization algorithm.\n",
    "        data: Input data for training.\n",
    "        labels: Correct labels for the training data.\n",
    "        epochs: Number of times to iterate over the training dataset.\n",
    "    \"\"\"\n",
    "    for epoch in range(epochs):\n",
    "        optimizer.zero_grad()  # Reset gradients to zero for each epoch\n",
    "        outputs = model(data)  # Compute model output\n",
    "        loss = loss_function(outputs, labels.view(-1, 1))  # Calculate loss\n",
    "        loss.backward()  # Compute gradient of the loss w.r.t. network parameters\n",
    "        optimizer.step()  # Update parameters\n",
    "\n",
    "        if (epoch+1) % 10 == 0:\n",
    "            print(f'Epoch {epoch+1}/{epochs}, Loss: {loss.item()}')"
   ]
  },
  {
   "cell_type": "markdown",
   "id": "0b289f12",
   "metadata": {},
   "source": [
    "## Choose a loss function\n",
    "\n",
    "There are many loss functions available in PyTorch (https://pytorch.org/docs/stable/nn.html#loss-functions), the most popular include:\n",
    "- CrossEntropyLoss: Extremely popular for multi-class classification problems.\n",
    "- MSELoss: Widely used in regression tasks.\n",
    "- BCELoss / BCEWithLogitsLoss: Commonly used for binary classification tasks.\n",
    "- L1Loss: Frequently used in regression when robustness to outliers is needed.\n",
    "- SmoothL1Loss: Popular in computer vision tasks, particularly object detection.\n",
    "- TripletMarginLoss: Used in metric learning tasks like face recognition.\n",
    "\n",
    "In this case we have a binary classification task, so we'll choose BCELoss. "
   ]
  },
  {
   "cell_type": "code",
   "execution_count": 17,
   "id": "a1d35754",
   "metadata": {},
   "outputs": [],
   "source": [
    "loss_function = nn.BCELoss()"
   ]
  },
  {
   "cell_type": "markdown",
   "id": "9abe767c",
   "metadata": {},
   "source": [
    "## Initialize the model and optimizer\n",
    "\n",
    "PyTorch also has a number of optimization algorithms (https://pytorch.org/docs/stable/optim.html). The most popular include:\n",
    "- SGD: A machine learning staple, particularly popular for its simplicity and effectiveness in large-scale learning problems.\n",
    "- Adam: One of the most popular optimizers, especially for deep learning tasks, due to its adaptive learning rate and momentum.\n",
    "- AdamW: Increasingly popular in deep learning, particularly with transformer models.\n",
    "- RMSprop: Frequently used for training recurrent neural networks, valued for its adaptive learning rate.\n",
    "- Adagrad: Widely used in natural language processing and other tasks with sparse data."
   ]
  },
  {
   "cell_type": "markdown",
   "id": "82f31c74",
   "metadata": {},
   "source": [
    "### Create the neural network"
   ]
  },
  {
   "cell_type": "code",
   "execution_count": 18,
   "id": "018b1d00",
   "metadata": {},
   "outputs": [],
   "source": [
    "model = NeuralNet()\n",
    "\n",
    "# Alternatively, use the NeuralNetDynamic model with two hidden layers.\n",
    "# This makes it easy to experiment with the number of hidden layers and neurons in each layer.\n",
    "# hidden_layers = [N_NEURONS_IN_HIDDEN_LAYER_1, N_NEURONS_IN_HIDDEN_LAYER_2]\n",
    "# model = NeuralNetDynamic(hidden_layers)"
   ]
  },
  {
   "cell_type": "code",
   "execution_count": 19,
   "id": "13a6f490",
   "metadata": {},
   "outputs": [],
   "source": [
    "def print_weights_and_biases(model):\n",
    "    \"\"\"\n",
    "    Prints the weights and biases of a PyTorch model. This function assumes that the model's\n",
    "    parameters are organized into named layers and that each layer's parameters require gradients,\n",
    "    which is typical for trainable parameters in neural networks.\n",
    "\n",
    "    Args:\n",
    "        model (nn.Module): The PyTorch model from which weights and biases are to be printed.\n",
    "\n",
    "    This function iterates through all named parameters of the model, checking if they require\n",
    "    gradients (a common indicator that the parameter is trainable and used during model training).\n",
    "    It prints both the name of the parameter and its current values.\n",
    "    \"\"\"\n",
    "    # Iterate over all named parameters in the model\n",
    "    for name, param in model.named_parameters():\n",
    "        # Check if the parameter requires gradients\n",
    "        if param.requires_grad:\n",
    "            print(f\"{name}:\")\n",
    "            print(param.data)  # Print the parameter values"
   ]
  },
  {
   "cell_type": "code",
   "execution_count": 20,
   "id": "56b97253",
   "metadata": {},
   "outputs": [
    {
     "name": "stdout",
     "output_type": "stream",
     "text": [
      "net.0.weight:\n",
      "tensor([[ 0.4231,  0.1108],\n",
      "        [ 0.2330,  0.6711],\n",
      "        [-0.4562, -0.3210],\n",
      "        [ 0.4946, -0.4838]])\n",
      "net.0.bias:\n",
      "tensor([-0.3899,  0.5162,  0.2231,  0.2284])\n",
      "net.2.weight:\n",
      "tensor([[-0.2119, -0.0069,  0.4576, -0.3001],\n",
      "        [ 0.0039,  0.2378, -0.3452,  0.4856]])\n",
      "net.2.bias:\n",
      "tensor([-0.2498, -0.1201])\n",
      "net.4.weight:\n",
      "tensor([[-0.1913, -0.4608]])\n",
      "net.4.bias:\n",
      "tensor([-0.6939])\n"
     ]
    }
   ],
   "source": [
    "print_weights_and_biases(model)"
   ]
  },
  {
   "cell_type": "markdown",
   "id": "49211721",
   "metadata": {},
   "source": [
    "We can also examine the general structure of the model."
   ]
  },
  {
   "cell_type": "code",
   "execution_count": 21,
   "id": "17935fec",
   "metadata": {},
   "outputs": [
    {
     "data": {
      "text/plain": [
       "NeuralNet(\n",
       "  (activation_function): Tanh()\n",
       "  (net): Sequential(\n",
       "    (0): Linear(in_features=2, out_features=4, bias=True)\n",
       "    (1): Tanh()\n",
       "    (2): Linear(in_features=4, out_features=2, bias=True)\n",
       "    (3): Tanh()\n",
       "    (4): Linear(in_features=2, out_features=1, bias=True)\n",
       "    (5): Sigmoid()\n",
       "  )\n",
       ")"
      ]
     },
     "execution_count": 21,
     "metadata": {},
     "output_type": "execute_result"
    }
   ],
   "source": [
    "model"
   ]
  },
  {
   "cell_type": "markdown",
   "id": "875a5681",
   "metadata": {},
   "source": [
    "Move tensors to GPU if we have one available."
   ]
  },
  {
   "cell_type": "code",
   "execution_count": 22,
   "id": "04b84f69",
   "metadata": {},
   "outputs": [],
   "source": [
    "if device != 'cpu':\n",
    "    train_data = train_data.to(device)\n",
    "    train_labels = train_labels.to(device)\n",
    "    test_data = test_data.to(device)\n",
    "    test_labels = test_labels.to(device)\n",
    "    model = model.to(device)"
   ]
  },
  {
   "cell_type": "markdown",
   "id": "b5b59a8c",
   "metadata": {},
   "source": [
    "### Create the optimizer\n",
    "Here we use the popular Adam optimizer. Tutorials often use stochastic gradient decent (SGD) but Adam often works better."
   ]
  },
  {
   "cell_type": "code",
   "execution_count": 23,
   "id": "f1a6d082257adccd",
   "metadata": {
    "collapsed": false,
    "jupyter": {
     "outputs_hidden": false
    }
   },
   "outputs": [],
   "source": [
    "# The default learning rate is 0.001, but we can experiment.\n",
    "learning_rate = 0.03\n",
    "optimizer = torch.optim.Adam(model.parameters(), lr=learning_rate)\n",
    "\n",
    "# There are many optimizers available in PyTorch.\n",
    "# You can experiment with different ones.\n",
    "# optimizer = torch.optim.SGD(model.parameters(), lr=learning_rate)"
   ]
  },
  {
   "cell_type": "markdown",
   "id": "7a0f6e55",
   "metadata": {},
   "source": [
    "## Train the model"
   ]
  },
  {
   "cell_type": "code",
   "execution_count": 24,
   "id": "initial_id",
   "metadata": {},
   "outputs": [
    {
     "name": "stdout",
     "output_type": "stream",
     "text": [
      "Epoch 10/100, Loss: 0.6448682546615601\n",
      "Epoch 20/100, Loss: 0.5371651649475098\n",
      "Epoch 30/100, Loss: 0.4153635799884796\n",
      "Epoch 40/100, Loss: 0.30777618288993835\n",
      "Epoch 50/100, Loss: 0.22882884740829468\n",
      "Epoch 60/100, Loss: 0.17420876026153564\n",
      "Epoch 70/100, Loss: 0.13677601516246796\n",
      "Epoch 80/100, Loss: 0.1107226088643074\n",
      "Epoch 90/100, Loss: 0.09205600619316101\n",
      "Epoch 100/100, Loss: 0.0781797245144844\n"
     ]
    }
   ],
   "source": [
    "n_epochs = 100\n",
    "\n",
    "train(model,\n",
    "      loss_function,\n",
    "      optimizer,\n",
    "      train_data,\n",
    "      train_labels,\n",
    "      epochs=n_epochs)"
   ]
  },
  {
   "cell_type": "markdown",
   "id": "9423ef0a",
   "metadata": {},
   "source": [
    "We can see now that the weights and biases have changed as a result of training."
   ]
  },
  {
   "cell_type": "code",
   "execution_count": 25,
   "id": "f5df60a0",
   "metadata": {},
   "outputs": [
    {
     "name": "stdout",
     "output_type": "stream",
     "text": [
      "net.0.weight:\n",
      "tensor([[ 2.7244,  0.0851],\n",
      "        [-0.0495,  3.1015],\n",
      "        [-0.0452, -0.1421],\n",
      "        [ 2.4832, -0.1089]], device='cuda:0')\n",
      "net.0.bias:\n",
      "tensor([0.1931, 0.0068, 0.7003, 0.3239], device='cuda:0')\n",
      "net.2.weight:\n",
      "tensor([[-1.8687, -2.1944,  0.1191, -0.6288],\n",
      "        [ 1.0404,  1.8813, -1.6291,  1.5919]], device='cuda:0')\n",
      "net.2.bias:\n",
      "tensor([-2.0606, -1.5254], device='cuda:0')\n",
      "net.4.weight:\n",
      "tensor([[-2.8536, -2.8436]], device='cuda:0')\n",
      "net.4.bias:\n",
      "tensor([-2.2603], device='cuda:0')\n"
     ]
    }
   ],
   "source": [
    "print_weights_and_biases(model)"
   ]
  },
  {
   "cell_type": "markdown",
   "id": "9519cb91",
   "metadata": {},
   "source": [
    "## Test the model"
   ]
  },
  {
   "cell_type": "code",
   "execution_count": 26,
   "id": "c958c667f6839c9f",
   "metadata": {
    "collapsed": false,
    "jupyter": {
     "outputs_hidden": false
    }
   },
   "outputs": [
    {
     "name": "stdout",
     "output_type": "stream",
     "text": [
      "Test Accuracy: 98.57%\n"
     ]
    }
   ],
   "source": [
    "# Set the model to evaluation mode as opposed to training mode. This is necessary in general because\n",
    "# some model layers behave differently during training than during inference, such as dropout layers\n",
    "# and batch normalization layers.\n",
    "model.eval()\n",
    "\n",
    "# disable gradient calculation, which is unnecessary during inference\n",
    "with torch.no_grad():\n",
    "    # The output layer of the network consists of a single neuron that uses a sigmoid activation function.\n",
    "    # This will output values between 0 and 1. We check whether this value is >= 0.5, if so we assume it\n",
    "    # refers to class 1, otherwise class 0.\n",
    "    output = model(test_data)\n",
    "    predictions = output.view(-1) >= 0.5\n",
    "\n",
    "    accuracy = (predictions.float() == test_labels).float().mean().item()\n",
    "    print(f'Test Accuracy: {accuracy * 100:.2f}%')"
   ]
  },
  {
   "cell_type": "code",
   "execution_count": 27,
   "id": "018efe94",
   "metadata": {},
   "outputs": [
    {
     "data": {
      "text/plain": [
       "0.985714316368103"
      ]
     },
     "execution_count": 27,
     "metadata": {},
     "output_type": "execute_result"
    }
   ],
   "source": [
    "# Here the accuracy calculation is repeated so that we can break it down.\n",
    "(predictions.float() == test_labels).float().mean().item()"
   ]
  },
  {
   "cell_type": "code",
   "execution_count": 28,
   "id": "b9a0ab9d",
   "metadata": {},
   "outputs": [
    {
     "data": {
      "text/plain": [
       "tensor([[0.9623],\n",
       "        [0.0957],\n",
       "        [0.0958],\n",
       "        [0.0958],\n",
       "        [0.0958],\n",
       "        [0.9638],\n",
       "        [0.9619],\n",
       "        [0.1786],\n",
       "        [0.9645],\n",
       "        [0.9611],\n",
       "        [0.1021],\n",
       "        [0.0957],\n",
       "        [0.2170],\n",
       "        [0.9639],\n",
       "        [0.9623],\n",
       "        [0.0957],\n",
       "        [0.0963],\n",
       "        [0.0957],\n",
       "        [0.0957],\n",
       "        [0.0957],\n",
       "        [0.9648],\n",
       "        [0.0963],\n",
       "        [0.0957],\n",
       "        [0.9623],\n",
       "        [0.0970],\n",
       "        [0.9635],\n",
       "        [0.1076],\n",
       "        [0.0965],\n",
       "        [0.0959],\n",
       "        [0.9622],\n",
       "        [0.9623],\n",
       "        [0.9623],\n",
       "        [0.1277],\n",
       "        [0.6006],\n",
       "        [0.9644],\n",
       "        [0.9631],\n",
       "        [0.0966],\n",
       "        [0.9621],\n",
       "        [0.0958],\n",
       "        [0.0958],\n",
       "        [0.0998],\n",
       "        [0.9623],\n",
       "        [0.9614],\n",
       "        [0.0957],\n",
       "        [0.0957],\n",
       "        [0.0960],\n",
       "        [0.0961],\n",
       "        [0.0974],\n",
       "        [0.0959],\n",
       "        [0.9616],\n",
       "        [0.9633],\n",
       "        [0.0956],\n",
       "        [0.9646],\n",
       "        [0.0987],\n",
       "        [0.9623],\n",
       "        [0.9652],\n",
       "        [0.9647],\n",
       "        [0.0959],\n",
       "        [0.9647],\n",
       "        [0.0957],\n",
       "        [0.9622],\n",
       "        [0.0963],\n",
       "        [0.9623],\n",
       "        [0.9646],\n",
       "        [0.0957],\n",
       "        [0.9646],\n",
       "        [0.9623],\n",
       "        [0.0961],\n",
       "        [0.0957],\n",
       "        [0.0960]], device='cuda:0', grad_fn=<SigmoidBackward0>)"
      ]
     },
     "execution_count": 28,
     "metadata": {},
     "output_type": "execute_result"
    }
   ],
   "source": [
    "model(test_data)"
   ]
  },
  {
   "cell_type": "markdown",
   "id": "fee5182b",
   "metadata": {},
   "source": [
    "## Visualize the decision boundary of the trained model"
   ]
  },
  {
   "cell_type": "code",
   "execution_count": 29,
   "id": "6700dff8",
   "metadata": {},
   "outputs": [],
   "source": [
    "import matplotlib.pyplot as plt\n",
    "import numpy as np"
   ]
  },
  {
   "cell_type": "code",
   "execution_count": 30,
   "id": "c4c7adf9-371f-4eeb-af9c-4ad12c2e98a6",
   "metadata": {},
   "outputs": [],
   "source": [
    "def plot_decision_boundary(model, data, labels):\n",
    "    \"\"\"\n",
    "    Plots the decision boundary created by a neural network model along with the data points.\n",
    "\n",
    "    Args:\n",
    "        model: The trained neural network model.\n",
    "        data (tensor): The input data as a PyTorch tensor.\n",
    "        labels (tensor): The labels corresponding to the input data.\n",
    "\n",
    "    This function converts the PyTorch tensors to NumPy arrays, generates a meshgrid to represent the space,\n",
    "    predicts the model's outputs over this grid to determine where the decision boundary lies, and plots\n",
    "    the results using a contour plot alongside the original training examples.\n",
    "    \"\"\"\n",
    "    # Convert the data from PyTorch tensors to NumPy arrays for plotting\n",
    "    data_np = data.numpy()\n",
    "    labels_np = labels.numpy()\n",
    "    \n",
    "    # Define the range for the grid that will represent the decision surface\n",
    "    # Expand the range slightly beyond the min and max values to ensure all data points are well-contained within the plot\n",
    "    x_min, x_max = data_np[:, 0].min() - 1, data_np[:, 0].max() + 1\n",
    "    y_min, y_max = data_np[:, 1].min() - 1, data_np[:, 1].max() + 1\n",
    "\n",
    "    # Create a meshgrid which will be used for plotting the decision boundary\n",
    "    # np.arange creates a vector of values from x_min to x_max with a step size of 0.1\n",
    "    xx, yy = np.meshgrid(np.arange(x_min, x_max, 0.1),\n",
    "                         np.arange(y_min, y_max, 0.1),\n",
    "                         indexing='ij')\n",
    "    \n",
    "    # Predicting over the meshgrid\n",
    "    # Flatten the grid so the model can classify every point in the space\n",
    "    grid = torch.from_numpy(np.c_[xx.ravel(), yy.ravel()]).float()\n",
    "\n",
    "    # Predict the function output for all points in the grid without tracking gradients\n",
    "    with torch.no_grad():\n",
    "        preds = model(grid).view(xx.shape) >= 0.5\n",
    "    \n",
    "    # Convert predictions back to a NumPy array for plotting\n",
    "    preds_np = preds.numpy()\n",
    "    \n",
    "    # Create a contour plot to show the decision boundary\n",
    "    # contourf fills between the regions, alpha controls transparency, and levels set the threshold for classification\n",
    "    plt.contourf(xx,\n",
    "                 yy,\n",
    "                 preds_np,\n",
    "                 alpha=0.5,\n",
    "                 levels=[-0.5, 0.5, 1.5],\n",
    "                 colors=['red', 'blue']\n",
    "                 )\n",
    "\n",
    "    # Scatter plot of the actual data points; color-coded by their labels\n",
    "    plt.scatter(x=data_np[:, 0],\n",
    "                y=data_np[:, 1],\n",
    "                c=labels_np,\n",
    "                cmap=plt.cm.RdYlBu,\n",
    "                edgecolors='k')\n",
    "\n",
    "    # Label the axes and the plot\n",
    "    plt.xlabel('X1')\n",
    "    plt.ylabel('X2')\n",
    "    plt.title('Decision Boundary and Training Data')\n",
    "    plt.show()"
   ]
  },
  {
   "cell_type": "markdown",
   "id": "541ee6f8",
   "metadata": {},
   "source": [
    "Move the training data and model back to CPU if necessary."
   ]
  },
  {
   "cell_type": "code",
   "execution_count": 31,
   "id": "8511de61",
   "metadata": {},
   "outputs": [],
   "source": [
    "if device != 'cpu':\n",
    "    train_data = train_data.to('cpu')\n",
    "    train_labels = train_labels.to('cpu')\n",
    "    model = model.to('cpu')"
   ]
  },
  {
   "cell_type": "code",
   "execution_count": 32,
   "id": "df393293-a636-441e-b691-b24e9cf96077",
   "metadata": {},
   "outputs": [
    {
     "data": {
      "image/png": "[encoded data removed]",
      "text/plain": [
       "<Figure size 640x480 with 1 Axes>"
      ]
     },
     "metadata": {},
     "output_type": "display_data"
    }
   ],
   "source": [
    "plot_decision_boundary(model, train_data, train_labels)"
   ]
  },
  {
   "cell_type": "markdown",
   "id": "79386ea9",
   "metadata": {},
   "source": [
    "# Challenge\n",
    "The demo PyTorch neural network doesn't train very well on the concentric rings dataset, and does a poor job on the spiral dataset. Experiment with the code to produce better models. You can change any of the hyperparameters including the learning rate, number of layers, number of neurons in a given layer, and choice of activation function. You can also change the number of training epochs, configure the optimizer differently or use a different optimizer. You might like to try out ideas using TensorFlow Playground where it's easier to experiment with the network topology and other options. You can then implement any promising ideas in code."
   ]
  }
 ],
 "metadata": {
  "kernelspec": {
   "display_name": "AI-ML-Bootcamp-24-25",
   "language": "python",
   "name": "python3"
  },
  "language_info": {
   "codemirror_mode": {
    "name": "ipython",
    "version": 3
   },
   "file_extension": ".py",
   "mimetype": "text/x-python",
   "name": "python",
   "nbconvert_exporter": "python",
   "pygments_lexer": "ipython3",
   "version": "3.12.3"
  }
 },
 "nbformat": 4,
 "nbformat_minor": 5
}
